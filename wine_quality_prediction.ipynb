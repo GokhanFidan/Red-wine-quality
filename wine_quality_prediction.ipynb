{
 "cells": [
  {
   "cell_type": "markdown",
   "id": "396c37a2",
   "metadata": {},
   "source": [
    "# Importing Libraries"
   ]
  },
  {
   "cell_type": "code",
   "execution_count": 59,
   "id": "1605c29a",
   "metadata": {},
   "outputs": [],
   "source": [
    "%matplotlib inline\n",
    "\n",
    "import pandas as pd\n",
    "import numpy as np\n",
    "import seaborn as sns\n",
    "import matplotlib.pyplot as plt\n",
    "import scipy\n",
    "import warnings\n",
    "warnings.filterwarnings('ignore')\n",
    "from sklearn.model_selection import train_test_split\n",
    "from sklearn.metrics import mean_squared_error\n",
    "from sklearn.metrics import accuracy_score\n",
    "from sklearn.metrics import confusion_matrix\n",
    "from sklearn.model_selection import cross_val_score\n",
    "from sklearn import metrics\n",
    "from sklearn import preprocessing\n",
    "from sklearn.model_selection import KFold\n",
    "from sklearn.linear_model import LinearRegression\n",
    "from sklearn.preprocessing import PolynomialFeatures\n",
    "from sklearn.tree import DecisionTreeRegressor \n",
    "from sklearn.tree import DecisionTreeClassifier\n",
    "from sklearn.ensemble import RandomForestRegressor\n",
    "from sklearn.model_selection import GridSearchCV\n",
    "from sklearn.neighbors import KNeighborsRegressor\n",
    "from sklearn.neighbors import KNeighborsClassifier\n",
    "from sklearn import tree\n",
    "from sklearn.model_selection import LeaveOneOut\n",
    "from sklearn.linear_model import Ridge, Lasso\n",
    "from sklearn.pipeline import make_pipeline\n",
    "from sklearn.pipeline import Pipeline\n",
    "from sklearn.linear_model import LogisticRegression\n",
    "from sklearn.ensemble import RandomForestClassifier\n",
    "from sklearn.ensemble import GradientBoostingRegressor\n",
    "from xgboost import XGBRegressor\n",
    "from sklearn.metrics import confusion_matrix, classification_report\n",
    "from sklearn.metrics import precision_score, recall_score, f1_score\n",
    "from sklearn.metrics import plot_roc_curve\n",
    "from sklearn.metrics import accuracy_score\n",
    "from sklearn.svm import SVC"
   ]
  },
  {
   "cell_type": "markdown",
   "id": "098b820f",
   "metadata": {},
   "source": [
    "# Reading and copying data"
   ]
  },
  {
   "cell_type": "markdown",
   "id": "e8ffea17",
   "metadata": {},
   "source": [
    "#### These datasets relate to the red wine in the eye of Portuguese \"Vinho Verde\". Only those with physicochemical (inputs) and sensory (output) prices can be used (eg no data on wines, wine sales, etc.).\n",
    "\n",
    "\n",
    "#### Input Variables (Obtained from physicochemical tests):\n",
    "#### 1 - fixed acidity\n",
    "#### 2 - volatile acidity\n",
    "#### 3 - citric acid\n",
    "#### 4 - residual sugar\n",
    "#### 5 - chlorides\n",
    "#### 6 - free sulfur dioxide\n",
    "#### 7 - total sulfur dioxide\n",
    "#### 8 - density\n",
    "#### 9 - pH\n",
    "#### 10 - sulphates\n",
    "#### 11 - alcohol\n",
    "#### Output (Dependent Variable)\n",
    "#### 12 - quality (0 to 10 values)"
   ]
  },
  {
   "cell_type": "code",
   "execution_count": 60,
   "id": "2e6e8f31",
   "metadata": {},
   "outputs": [
    {
     "data": {
      "text/html": [
       "<div>\n",
       "<style scoped>\n",
       "    .dataframe tbody tr th:only-of-type {\n",
       "        vertical-align: middle;\n",
       "    }\n",
       "\n",
       "    .dataframe tbody tr th {\n",
       "        vertical-align: top;\n",
       "    }\n",
       "\n",
       "    .dataframe thead th {\n",
       "        text-align: right;\n",
       "    }\n",
       "</style>\n",
       "<table border=\"1\" class=\"dataframe\">\n",
       "  <thead>\n",
       "    <tr style=\"text-align: right;\">\n",
       "      <th></th>\n",
       "      <th>fixed acidity</th>\n",
       "      <th>volatile acidity</th>\n",
       "      <th>citric acid</th>\n",
       "      <th>residual sugar</th>\n",
       "      <th>chlorides</th>\n",
       "      <th>free sulfur dioxide</th>\n",
       "      <th>total sulfur dioxide</th>\n",
       "      <th>density</th>\n",
       "      <th>pH</th>\n",
       "      <th>sulphates</th>\n",
       "      <th>alcohol</th>\n",
       "      <th>quality</th>\n",
       "    </tr>\n",
       "  </thead>\n",
       "  <tbody>\n",
       "    <tr>\n",
       "      <th>0</th>\n",
       "      <td>7.4</td>\n",
       "      <td>0.70</td>\n",
       "      <td>0.00</td>\n",
       "      <td>1.9</td>\n",
       "      <td>0.076</td>\n",
       "      <td>11.0</td>\n",
       "      <td>34.0</td>\n",
       "      <td>0.9978</td>\n",
       "      <td>3.51</td>\n",
       "      <td>0.56</td>\n",
       "      <td>9.4</td>\n",
       "      <td>5</td>\n",
       "    </tr>\n",
       "    <tr>\n",
       "      <th>1</th>\n",
       "      <td>7.8</td>\n",
       "      <td>0.88</td>\n",
       "      <td>0.00</td>\n",
       "      <td>2.6</td>\n",
       "      <td>0.098</td>\n",
       "      <td>25.0</td>\n",
       "      <td>67.0</td>\n",
       "      <td>0.9968</td>\n",
       "      <td>3.20</td>\n",
       "      <td>0.68</td>\n",
       "      <td>9.8</td>\n",
       "      <td>5</td>\n",
       "    </tr>\n",
       "    <tr>\n",
       "      <th>2</th>\n",
       "      <td>7.8</td>\n",
       "      <td>0.76</td>\n",
       "      <td>0.04</td>\n",
       "      <td>2.3</td>\n",
       "      <td>0.092</td>\n",
       "      <td>15.0</td>\n",
       "      <td>54.0</td>\n",
       "      <td>0.9970</td>\n",
       "      <td>3.26</td>\n",
       "      <td>0.65</td>\n",
       "      <td>9.8</td>\n",
       "      <td>5</td>\n",
       "    </tr>\n",
       "    <tr>\n",
       "      <th>3</th>\n",
       "      <td>11.2</td>\n",
       "      <td>0.28</td>\n",
       "      <td>0.56</td>\n",
       "      <td>1.9</td>\n",
       "      <td>0.075</td>\n",
       "      <td>17.0</td>\n",
       "      <td>60.0</td>\n",
       "      <td>0.9980</td>\n",
       "      <td>3.16</td>\n",
       "      <td>0.58</td>\n",
       "      <td>9.8</td>\n",
       "      <td>6</td>\n",
       "    </tr>\n",
       "    <tr>\n",
       "      <th>4</th>\n",
       "      <td>7.4</td>\n",
       "      <td>0.70</td>\n",
       "      <td>0.00</td>\n",
       "      <td>1.9</td>\n",
       "      <td>0.076</td>\n",
       "      <td>11.0</td>\n",
       "      <td>34.0</td>\n",
       "      <td>0.9978</td>\n",
       "      <td>3.51</td>\n",
       "      <td>0.56</td>\n",
       "      <td>9.4</td>\n",
       "      <td>5</td>\n",
       "    </tr>\n",
       "  </tbody>\n",
       "</table>\n",
       "</div>"
      ],
      "text/plain": [
       "   fixed acidity  volatile acidity  citric acid  residual sugar  chlorides  \\\n",
       "0            7.4              0.70         0.00             1.9      0.076   \n",
       "1            7.8              0.88         0.00             2.6      0.098   \n",
       "2            7.8              0.76         0.04             2.3      0.092   \n",
       "3           11.2              0.28         0.56             1.9      0.075   \n",
       "4            7.4              0.70         0.00             1.9      0.076   \n",
       "\n",
       "   free sulfur dioxide  total sulfur dioxide  density    pH  sulphates  \\\n",
       "0                 11.0                  34.0   0.9978  3.51       0.56   \n",
       "1                 25.0                  67.0   0.9968  3.20       0.68   \n",
       "2                 15.0                  54.0   0.9970  3.26       0.65   \n",
       "3                 17.0                  60.0   0.9980  3.16       0.58   \n",
       "4                 11.0                  34.0   0.9978  3.51       0.56   \n",
       "\n",
       "   alcohol  quality  \n",
       "0      9.4        5  \n",
       "1      9.8        5  \n",
       "2      9.8        5  \n",
       "3      9.8        6  \n",
       "4      9.4        5  "
      ]
     },
     "execution_count": 60,
     "metadata": {},
     "output_type": "execute_result"
    }
   ],
   "source": [
    "data=pd.read_csv('winequality-red.csv')\n",
    "data_copy=data\n",
    "data.head()"
   ]
  },
  {
   "cell_type": "markdown",
   "id": "3a99d941",
   "metadata": {},
   "source": [
    "# Exploratory Data Analysis"
   ]
  },
  {
   "cell_type": "code",
   "execution_count": 61,
   "id": "baa21eec",
   "metadata": {},
   "outputs": [
    {
     "data": {
      "text/plain": [
       "(1599, 12)"
      ]
     },
     "execution_count": 61,
     "metadata": {},
     "output_type": "execute_result"
    }
   ],
   "source": [
    "data.shape"
   ]
  },
  {
   "cell_type": "code",
   "execution_count": 62,
   "id": "7a52a592",
   "metadata": {},
   "outputs": [
    {
     "data": {
      "text/plain": [
       "Index(['fixed acidity', 'volatile acidity', 'citric acid', 'residual sugar',\n",
       "       'chlorides', 'free sulfur dioxide', 'total sulfur dioxide', 'density',\n",
       "       'pH', 'sulphates', 'alcohol', 'quality'],\n",
       "      dtype='object')"
      ]
     },
     "execution_count": 62,
     "metadata": {},
     "output_type": "execute_result"
    }
   ],
   "source": [
    "data.columns"
   ]
  },
  {
   "cell_type": "code",
   "execution_count": 63,
   "id": "2f8a8dc9",
   "metadata": {},
   "outputs": [
    {
     "name": "stdout",
     "output_type": "stream",
     "text": [
      "<class 'pandas.core.frame.DataFrame'>\n",
      "RangeIndex: 1599 entries, 0 to 1598\n",
      "Data columns (total 12 columns):\n",
      " #   Column                Non-Null Count  Dtype  \n",
      "---  ------                --------------  -----  \n",
      " 0   fixed acidity         1599 non-null   float64\n",
      " 1   volatile acidity      1599 non-null   float64\n",
      " 2   citric acid           1599 non-null   float64\n",
      " 3   residual sugar        1599 non-null   float64\n",
      " 4   chlorides             1599 non-null   float64\n",
      " 5   free sulfur dioxide   1599 non-null   float64\n",
      " 6   total sulfur dioxide  1599 non-null   float64\n",
      " 7   density               1599 non-null   float64\n",
      " 8   pH                    1599 non-null   float64\n",
      " 9   sulphates             1599 non-null   float64\n",
      " 10  alcohol               1599 non-null   float64\n",
      " 11  quality               1599 non-null   int64  \n",
      "dtypes: float64(11), int64(1)\n",
      "memory usage: 150.0 KB\n"
     ]
    }
   ],
   "source": [
    "data.info()"
   ]
  },
  {
   "cell_type": "code",
   "execution_count": 64,
   "id": "c9e37174",
   "metadata": {},
   "outputs": [
    {
     "data": {
      "text/html": [
       "<div>\n",
       "<style scoped>\n",
       "    .dataframe tbody tr th:only-of-type {\n",
       "        vertical-align: middle;\n",
       "    }\n",
       "\n",
       "    .dataframe tbody tr th {\n",
       "        vertical-align: top;\n",
       "    }\n",
       "\n",
       "    .dataframe thead th {\n",
       "        text-align: right;\n",
       "    }\n",
       "</style>\n",
       "<table border=\"1\" class=\"dataframe\">\n",
       "  <thead>\n",
       "    <tr style=\"text-align: right;\">\n",
       "      <th></th>\n",
       "      <th>count</th>\n",
       "      <th>mean</th>\n",
       "      <th>std</th>\n",
       "      <th>min</th>\n",
       "      <th>25%</th>\n",
       "      <th>50%</th>\n",
       "      <th>75%</th>\n",
       "      <th>max</th>\n",
       "    </tr>\n",
       "  </thead>\n",
       "  <tbody>\n",
       "    <tr>\n",
       "      <th>fixed acidity</th>\n",
       "      <td>1599.0</td>\n",
       "      <td>8.319637</td>\n",
       "      <td>1.741096</td>\n",
       "      <td>4.60000</td>\n",
       "      <td>7.1000</td>\n",
       "      <td>7.90000</td>\n",
       "      <td>9.200000</td>\n",
       "      <td>15.90000</td>\n",
       "    </tr>\n",
       "    <tr>\n",
       "      <th>volatile acidity</th>\n",
       "      <td>1599.0</td>\n",
       "      <td>0.527821</td>\n",
       "      <td>0.179060</td>\n",
       "      <td>0.12000</td>\n",
       "      <td>0.3900</td>\n",
       "      <td>0.52000</td>\n",
       "      <td>0.640000</td>\n",
       "      <td>1.58000</td>\n",
       "    </tr>\n",
       "    <tr>\n",
       "      <th>citric acid</th>\n",
       "      <td>1599.0</td>\n",
       "      <td>0.270976</td>\n",
       "      <td>0.194801</td>\n",
       "      <td>0.00000</td>\n",
       "      <td>0.0900</td>\n",
       "      <td>0.26000</td>\n",
       "      <td>0.420000</td>\n",
       "      <td>1.00000</td>\n",
       "    </tr>\n",
       "    <tr>\n",
       "      <th>residual sugar</th>\n",
       "      <td>1599.0</td>\n",
       "      <td>2.538806</td>\n",
       "      <td>1.409928</td>\n",
       "      <td>0.90000</td>\n",
       "      <td>1.9000</td>\n",
       "      <td>2.20000</td>\n",
       "      <td>2.600000</td>\n",
       "      <td>15.50000</td>\n",
       "    </tr>\n",
       "    <tr>\n",
       "      <th>chlorides</th>\n",
       "      <td>1599.0</td>\n",
       "      <td>0.087467</td>\n",
       "      <td>0.047065</td>\n",
       "      <td>0.01200</td>\n",
       "      <td>0.0700</td>\n",
       "      <td>0.07900</td>\n",
       "      <td>0.090000</td>\n",
       "      <td>0.61100</td>\n",
       "    </tr>\n",
       "    <tr>\n",
       "      <th>free sulfur dioxide</th>\n",
       "      <td>1599.0</td>\n",
       "      <td>15.874922</td>\n",
       "      <td>10.460157</td>\n",
       "      <td>1.00000</td>\n",
       "      <td>7.0000</td>\n",
       "      <td>14.00000</td>\n",
       "      <td>21.000000</td>\n",
       "      <td>72.00000</td>\n",
       "    </tr>\n",
       "    <tr>\n",
       "      <th>total sulfur dioxide</th>\n",
       "      <td>1599.0</td>\n",
       "      <td>46.467792</td>\n",
       "      <td>32.895324</td>\n",
       "      <td>6.00000</td>\n",
       "      <td>22.0000</td>\n",
       "      <td>38.00000</td>\n",
       "      <td>62.000000</td>\n",
       "      <td>289.00000</td>\n",
       "    </tr>\n",
       "    <tr>\n",
       "      <th>density</th>\n",
       "      <td>1599.0</td>\n",
       "      <td>0.996747</td>\n",
       "      <td>0.001887</td>\n",
       "      <td>0.99007</td>\n",
       "      <td>0.9956</td>\n",
       "      <td>0.99675</td>\n",
       "      <td>0.997835</td>\n",
       "      <td>1.00369</td>\n",
       "    </tr>\n",
       "    <tr>\n",
       "      <th>pH</th>\n",
       "      <td>1599.0</td>\n",
       "      <td>3.311113</td>\n",
       "      <td>0.154386</td>\n",
       "      <td>2.74000</td>\n",
       "      <td>3.2100</td>\n",
       "      <td>3.31000</td>\n",
       "      <td>3.400000</td>\n",
       "      <td>4.01000</td>\n",
       "    </tr>\n",
       "    <tr>\n",
       "      <th>sulphates</th>\n",
       "      <td>1599.0</td>\n",
       "      <td>0.658149</td>\n",
       "      <td>0.169507</td>\n",
       "      <td>0.33000</td>\n",
       "      <td>0.5500</td>\n",
       "      <td>0.62000</td>\n",
       "      <td>0.730000</td>\n",
       "      <td>2.00000</td>\n",
       "    </tr>\n",
       "    <tr>\n",
       "      <th>alcohol</th>\n",
       "      <td>1599.0</td>\n",
       "      <td>10.422983</td>\n",
       "      <td>1.065668</td>\n",
       "      <td>8.40000</td>\n",
       "      <td>9.5000</td>\n",
       "      <td>10.20000</td>\n",
       "      <td>11.100000</td>\n",
       "      <td>14.90000</td>\n",
       "    </tr>\n",
       "    <tr>\n",
       "      <th>quality</th>\n",
       "      <td>1599.0</td>\n",
       "      <td>5.636023</td>\n",
       "      <td>0.807569</td>\n",
       "      <td>3.00000</td>\n",
       "      <td>5.0000</td>\n",
       "      <td>6.00000</td>\n",
       "      <td>6.000000</td>\n",
       "      <td>8.00000</td>\n",
       "    </tr>\n",
       "  </tbody>\n",
       "</table>\n",
       "</div>"
      ],
      "text/plain": [
       "                       count       mean        std      min      25%  \\\n",
       "fixed acidity         1599.0   8.319637   1.741096  4.60000   7.1000   \n",
       "volatile acidity      1599.0   0.527821   0.179060  0.12000   0.3900   \n",
       "citric acid           1599.0   0.270976   0.194801  0.00000   0.0900   \n",
       "residual sugar        1599.0   2.538806   1.409928  0.90000   1.9000   \n",
       "chlorides             1599.0   0.087467   0.047065  0.01200   0.0700   \n",
       "free sulfur dioxide   1599.0  15.874922  10.460157  1.00000   7.0000   \n",
       "total sulfur dioxide  1599.0  46.467792  32.895324  6.00000  22.0000   \n",
       "density               1599.0   0.996747   0.001887  0.99007   0.9956   \n",
       "pH                    1599.0   3.311113   0.154386  2.74000   3.2100   \n",
       "sulphates             1599.0   0.658149   0.169507  0.33000   0.5500   \n",
       "alcohol               1599.0  10.422983   1.065668  8.40000   9.5000   \n",
       "quality               1599.0   5.636023   0.807569  3.00000   5.0000   \n",
       "\n",
       "                           50%        75%        max  \n",
       "fixed acidity          7.90000   9.200000   15.90000  \n",
       "volatile acidity       0.52000   0.640000    1.58000  \n",
       "citric acid            0.26000   0.420000    1.00000  \n",
       "residual sugar         2.20000   2.600000   15.50000  \n",
       "chlorides              0.07900   0.090000    0.61100  \n",
       "free sulfur dioxide   14.00000  21.000000   72.00000  \n",
       "total sulfur dioxide  38.00000  62.000000  289.00000  \n",
       "density                0.99675   0.997835    1.00369  \n",
       "pH                     3.31000   3.400000    4.01000  \n",
       "sulphates              0.62000   0.730000    2.00000  \n",
       "alcohol               10.20000  11.100000   14.90000  \n",
       "quality                6.00000   6.000000    8.00000  "
      ]
     },
     "execution_count": 64,
     "metadata": {},
     "output_type": "execute_result"
    }
   ],
   "source": [
    "data.describe().T"
   ]
  },
  {
   "cell_type": "markdown",
   "id": "1e01e777",
   "metadata": {},
   "source": [
    "### Drawing a Correlation Matrix"
   ]
  },
  {
   "cell_type": "code",
   "execution_count": 65,
   "id": "ac509675",
   "metadata": {
    "scrolled": false
   },
   "outputs": [
    {
     "data": {
      "text/plain": [
       "<AxesSubplot:>"
      ]
     },
     "execution_count": 65,
     "metadata": {},
     "output_type": "execute_result"
    },
    {
     "data": {
      "image/png": "[encoded data removed]",
      "text/plain": [
       "<Figure size 1296x648 with 2 Axes>"
      ]
     },
     "metadata": {
      "needs_background": "light"
     },
     "output_type": "display_data"
    }
   ],
   "source": [
    "corr=data.corr()\n",
    "plt.figure(figsize=(18,9))\n",
    "sns.heatmap(data.corr(),xticklabels=corr.columns,yticklabels=corr.columns,vmin=-1,vmax=1,annot=True)"
   ]
  },
  {
   "cell_type": "markdown",
   "id": "2c337114",
   "metadata": {},
   "source": [
    "### Information on how data in each feature is distributed in our dataset, as well as central trends such as mean, median, and mode."
   ]
  },
  {
   "cell_type": "code",
   "execution_count": 66,
   "id": "ff2966d7",
   "metadata": {},
   "outputs": [],
   "source": [
    "def feat_plot(feature):\n",
    "    plt.figure(figsize=(16, 6))\n",
    "    plt.subplot(1, 3, 1)\n",
    "    feature.plot(kind = 'hist')\n",
    "    plt.title(f'{feature.name} histogram plot')\n",
    "    \n",
    "    #mean = feature.describe().mean()\n",
    "    plt.subplot(1, 3, 2)\n",
    "    mu, sigma = scipy.stats.norm.fit(feature)\n",
    "    sns.distplot(feature) \n",
    "    #plt.legend({'--': mu, 'sigma': sigma})\n",
    "    plt.axvline(mu, linestyle = '--', color = 'green', )\n",
    "    plt.axvline(sigma, linestyle = '--', color = 'red')\n",
    "    plt.title(f'{feature.name} distribution plot')\n",
    "    \n",
    "    plt.subplot(1, 3, 3)\n",
    "    sns.boxplot(feature)\n",
    "    plt.title(f'{feature.name} box plot')\n",
    "    plt.show()\n",
    "num_feat = data.select_dtypes(exclude = 'object')"
   ]
  },
  {
   "cell_type": "code",
   "execution_count": 67,
   "id": "c367ccc7",
   "metadata": {
    "scrolled": false
   },
   "outputs": [
    {
     "data": {
      "image/png": "[encoded data removed]",
      "text/plain": [
       "<Figure size 1152x432 with 3 Axes>"
      ]
     },
     "metadata": {
      "needs_background": "light"
     },
     "output_type": "display_data"
    },
    {
     "data": {
      "image/png": "[encoded data removed]",
      "text/plain": [
       "<Figure size 1152x432 with 3 Axes>"
      ]
     },
     "metadata": {
      "needs_background": "light"
     },
     "output_type": "display_data"
    },
    {
     "data": {
      "image/png": "[encoded data removed]",
      "text/plain": [
       "<Figure size 1152x432 with 3 Axes>"
      ]
     },
     "metadata": {
      "needs_background": "light"
     },
     "output_type": "display_data"
    },
    {
     "data": {
      "image/png": "[encoded data removed]",
      "text/plain": [
       "<Figure size 1152x432 with 3 Axes>"
      ]
     },
     "metadata": {
      "needs_background": "light"
     },
     "output_type": "display_data"
    },
    {
     "data": {
      "image/png": "[encoded data removed]",
      "text/plain": [
       "<Figure size 1152x432 with 3 Axes>"
      ]
     },
     "metadata": {
      "needs_background": "light"
     },
     "output_type": "display_data"
    },
    {
     "data": {
      "image/png": "[encoded data removed]",
      "text/plain": [
       "<Figure size 1152x432 with 3 Axes>"
      ]
     },
     "metadata": {
      "needs_background": "light"
     },
     "output_type": "display_data"
    },
    {
     "data": {
      "image/png": "[encoded data removed]",
      "text/plain": [
       "<Figure size 1152x432 with 3 Axes>"
      ]
     },
     "metadata": {
      "needs_background": "light"
     },
     "output_type": "display_data"
    },
    {
     "data": {
      "image/png": "[encoded data removed]",
      "text/plain": [
       "<Figure size 1152x432 with 3 Axes>"
      ]
     },
     "metadata": {
      "needs_background": "light"
     },
     "output_type": "display_data"
    },
    {
     "data": {
      "image/png": "[encoded data removed]",
      "text/plain": [
       "<Figure size 1152x432 with 3 Axes>"
      ]
     },
     "metadata": {
      "needs_background": "light"
     },
     "output_type": "display_data"
    },
    {
     "data": {
      "image/png": "[encoded data removed]",
      "text/plain": [
       "<Figure size 1152x432 with 3 Axes>"
      ]
     },
     "metadata": {
      "needs_background": "light"
     },
     "output_type": "display_data"
    },
    {
     "data": {
      "image/png": "[encoded data removed]",
      "text/plain": [
       "<Figure size 1152x432 with 3 Axes>"
      ]
     },
     "metadata": {
      "needs_background": "light"
     },
     "output_type": "display_data"
    },
    {
     "data": {
      "image/png": "[encoded data removed]",
      "text/plain": [
       "<Figure size 1152x432 with 3 Axes>"
      ]
     },
     "metadata": {
      "needs_background": "light"
     },
     "output_type": "display_data"
    }
   ],
   "source": [
    "for i in num_feat.columns:\n",
    "    feat_plot(num_feat[i])"
   ]
  },
  {
   "cell_type": "markdown",
   "id": "f5eac7ce",
   "metadata": {},
   "source": [
    "###  How many samples of what quality are in our data?"
   ]
  },
  {
   "cell_type": "code",
   "execution_count": 68,
   "id": "cb3e9d19",
   "metadata": {},
   "outputs": [
    {
     "data": {
      "text/plain": [
       "5    681\n",
       "6    638\n",
       "7    199\n",
       "4     53\n",
       "8     18\n",
       "3     10\n",
       "Name: quality, dtype: int64"
      ]
     },
     "execution_count": 68,
     "metadata": {},
     "output_type": "execute_result"
    }
   ],
   "source": [
    "data[\"quality\"].value_counts()"
   ]
  },
  {
   "cell_type": "code",
   "execution_count": 69,
   "id": "d9209d36",
   "metadata": {
    "scrolled": true
   },
   "outputs": [
    {
     "data": {
      "text/plain": [
       "(array([0, 1, 2, 3, 4, 5]),\n",
       " [Text(0, 0, '5'),\n",
       "  Text(1, 0, '6'),\n",
       "  Text(2, 0, '7'),\n",
       "  Text(3, 0, '4'),\n",
       "  Text(4, 0, '8'),\n",
       "  Text(5, 0, '3')])"
      ]
     },
     "execution_count": 69,
     "metadata": {},
     "output_type": "execute_result"
    },
    {
     "data": {
      "image/png": "[encoded data removed]",
      "text/plain": [
       "<Figure size 432x288 with 1 Axes>"
      ]
     },
     "metadata": {
      "needs_background": "light"
     },
     "output_type": "display_data"
    }
   ],
   "source": [
    "data['quality'].value_counts().plot(kind=\"bar\",color=[\"red\", \"blue\",\"green\",\"black\",\"yellow\",\"brown\"]);\n",
    "plt.xticks(rotation=0)"
   ]
  },
  {
   "cell_type": "markdown",
   "id": "17d61182",
   "metadata": {},
   "source": [
    "###  Although the variable quality takes values ​​between 0 and 10 in the data set, there are no examples for quality values ​​of 0,1,2,9 and 10. When a regression approach is applied, it is thought that it will not yield successful results when estimating in real life, since the necessary learning for these quality values ​​cannot be obtained from our data."
   ]
  },
  {
   "cell_type": "markdown",
   "id": "a13472d2",
   "metadata": {},
   "source": [
    "# Data Manipulation"
   ]
  },
  {
   "cell_type": "code",
   "execution_count": 70,
   "id": "072118e2",
   "metadata": {},
   "outputs": [
    {
     "data": {
      "text/plain": [
       "fixed acidity           0\n",
       "volatile acidity        0\n",
       "citric acid             0\n",
       "residual sugar          0\n",
       "chlorides               0\n",
       "free sulfur dioxide     0\n",
       "total sulfur dioxide    0\n",
       "density                 0\n",
       "pH                      0\n",
       "sulphates               0\n",
       "alcohol                 0\n",
       "quality                 0\n",
       "dtype: int64"
      ]
     },
     "execution_count": 70,
     "metadata": {},
     "output_type": "execute_result"
    }
   ],
   "source": [
    "# checking the missing data\n",
    "data.isna().sum()"
   ]
  },
  {
   "cell_type": "markdown",
   "id": "f7d82e18",
   "metadata": {},
   "source": [
    "### We have no missing data and no categorical values. All data consists of numerical values. Therefore, there is no need to create a dummy value."
   ]
  },
  {
   "cell_type": "code",
   "execution_count": 71,
   "id": "14500ae0",
   "metadata": {},
   "outputs": [],
   "source": [
    "y=data['quality'].values\n",
    "X=data.drop([\"quality\"],axis=1)"
   ]
  },
  {
   "cell_type": "markdown",
   "id": "9c8bb3fc",
   "metadata": {},
   "source": [
    "### Label values ( Dependent variable)"
   ]
  },
  {
   "cell_type": "code",
   "execution_count": 72,
   "id": "81258498",
   "metadata": {
    "scrolled": true
   },
   "outputs": [
    {
     "data": {
      "text/plain": [
       "array([5, 5, 5, ..., 6, 5, 6], dtype=int64)"
      ]
     },
     "execution_count": 72,
     "metadata": {},
     "output_type": "execute_result"
    }
   ],
   "source": [
    "y"
   ]
  },
  {
   "cell_type": "markdown",
   "id": "5fb3c92c",
   "metadata": {},
   "source": [
    "### Matrix that we are going to use as a Feature ( Independent values)"
   ]
  },
  {
   "cell_type": "code",
   "execution_count": 73,
   "id": "d1ff65ef",
   "metadata": {},
   "outputs": [
    {
     "data": {
      "text/html": [
       "<div>\n",
       "<style scoped>\n",
       "    .dataframe tbody tr th:only-of-type {\n",
       "        vertical-align: middle;\n",
       "    }\n",
       "\n",
       "    .dataframe tbody tr th {\n",
       "        vertical-align: top;\n",
       "    }\n",
       "\n",
       "    .dataframe thead th {\n",
       "        text-align: right;\n",
       "    }\n",
       "</style>\n",
       "<table border=\"1\" class=\"dataframe\">\n",
       "  <thead>\n",
       "    <tr style=\"text-align: right;\">\n",
       "      <th></th>\n",
       "      <th>fixed acidity</th>\n",
       "      <th>volatile acidity</th>\n",
       "      <th>citric acid</th>\n",
       "      <th>residual sugar</th>\n",
       "      <th>chlorides</th>\n",
       "      <th>free sulfur dioxide</th>\n",
       "      <th>total sulfur dioxide</th>\n",
       "      <th>density</th>\n",
       "      <th>pH</th>\n",
       "      <th>sulphates</th>\n",
       "      <th>alcohol</th>\n",
       "    </tr>\n",
       "  </thead>\n",
       "  <tbody>\n",
       "    <tr>\n",
       "      <th>0</th>\n",
       "      <td>7.4</td>\n",
       "      <td>0.700</td>\n",
       "      <td>0.00</td>\n",
       "      <td>1.9</td>\n",
       "      <td>0.076</td>\n",
       "      <td>11.0</td>\n",
       "      <td>34.0</td>\n",
       "      <td>0.99780</td>\n",
       "      <td>3.51</td>\n",
       "      <td>0.56</td>\n",
       "      <td>9.4</td>\n",
       "    </tr>\n",
       "    <tr>\n",
       "      <th>1</th>\n",
       "      <td>7.8</td>\n",
       "      <td>0.880</td>\n",
       "      <td>0.00</td>\n",
       "      <td>2.6</td>\n",
       "      <td>0.098</td>\n",
       "      <td>25.0</td>\n",
       "      <td>67.0</td>\n",
       "      <td>0.99680</td>\n",
       "      <td>3.20</td>\n",
       "      <td>0.68</td>\n",
       "      <td>9.8</td>\n",
       "    </tr>\n",
       "    <tr>\n",
       "      <th>2</th>\n",
       "      <td>7.8</td>\n",
       "      <td>0.760</td>\n",
       "      <td>0.04</td>\n",
       "      <td>2.3</td>\n",
       "      <td>0.092</td>\n",
       "      <td>15.0</td>\n",
       "      <td>54.0</td>\n",
       "      <td>0.99700</td>\n",
       "      <td>3.26</td>\n",
       "      <td>0.65</td>\n",
       "      <td>9.8</td>\n",
       "    </tr>\n",
       "    <tr>\n",
       "      <th>3</th>\n",
       "      <td>11.2</td>\n",
       "      <td>0.280</td>\n",
       "      <td>0.56</td>\n",
       "      <td>1.9</td>\n",
       "      <td>0.075</td>\n",
       "      <td>17.0</td>\n",
       "      <td>60.0</td>\n",
       "      <td>0.99800</td>\n",
       "      <td>3.16</td>\n",
       "      <td>0.58</td>\n",
       "      <td>9.8</td>\n",
       "    </tr>\n",
       "    <tr>\n",
       "      <th>4</th>\n",
       "      <td>7.4</td>\n",
       "      <td>0.700</td>\n",
       "      <td>0.00</td>\n",
       "      <td>1.9</td>\n",
       "      <td>0.076</td>\n",
       "      <td>11.0</td>\n",
       "      <td>34.0</td>\n",
       "      <td>0.99780</td>\n",
       "      <td>3.51</td>\n",
       "      <td>0.56</td>\n",
       "      <td>9.4</td>\n",
       "    </tr>\n",
       "    <tr>\n",
       "      <th>...</th>\n",
       "      <td>...</td>\n",
       "      <td>...</td>\n",
       "      <td>...</td>\n",
       "      <td>...</td>\n",
       "      <td>...</td>\n",
       "      <td>...</td>\n",
       "      <td>...</td>\n",
       "      <td>...</td>\n",
       "      <td>...</td>\n",
       "      <td>...</td>\n",
       "      <td>...</td>\n",
       "    </tr>\n",
       "    <tr>\n",
       "      <th>1594</th>\n",
       "      <td>6.2</td>\n",
       "      <td>0.600</td>\n",
       "      <td>0.08</td>\n",
       "      <td>2.0</td>\n",
       "      <td>0.090</td>\n",
       "      <td>32.0</td>\n",
       "      <td>44.0</td>\n",
       "      <td>0.99490</td>\n",
       "      <td>3.45</td>\n",
       "      <td>0.58</td>\n",
       "      <td>10.5</td>\n",
       "    </tr>\n",
       "    <tr>\n",
       "      <th>1595</th>\n",
       "      <td>5.9</td>\n",
       "      <td>0.550</td>\n",
       "      <td>0.10</td>\n",
       "      <td>2.2</td>\n",
       "      <td>0.062</td>\n",
       "      <td>39.0</td>\n",
       "      <td>51.0</td>\n",
       "      <td>0.99512</td>\n",
       "      <td>3.52</td>\n",
       "      <td>0.76</td>\n",
       "      <td>11.2</td>\n",
       "    </tr>\n",
       "    <tr>\n",
       "      <th>1596</th>\n",
       "      <td>6.3</td>\n",
       "      <td>0.510</td>\n",
       "      <td>0.13</td>\n",
       "      <td>2.3</td>\n",
       "      <td>0.076</td>\n",
       "      <td>29.0</td>\n",
       "      <td>40.0</td>\n",
       "      <td>0.99574</td>\n",
       "      <td>3.42</td>\n",
       "      <td>0.75</td>\n",
       "      <td>11.0</td>\n",
       "    </tr>\n",
       "    <tr>\n",
       "      <th>1597</th>\n",
       "      <td>5.9</td>\n",
       "      <td>0.645</td>\n",
       "      <td>0.12</td>\n",
       "      <td>2.0</td>\n",
       "      <td>0.075</td>\n",
       "      <td>32.0</td>\n",
       "      <td>44.0</td>\n",
       "      <td>0.99547</td>\n",
       "      <td>3.57</td>\n",
       "      <td>0.71</td>\n",
       "      <td>10.2</td>\n",
       "    </tr>\n",
       "    <tr>\n",
       "      <th>1598</th>\n",
       "      <td>6.0</td>\n",
       "      <td>0.310</td>\n",
       "      <td>0.47</td>\n",
       "      <td>3.6</td>\n",
       "      <td>0.067</td>\n",
       "      <td>18.0</td>\n",
       "      <td>42.0</td>\n",
       "      <td>0.99549</td>\n",
       "      <td>3.39</td>\n",
       "      <td>0.66</td>\n",
       "      <td>11.0</td>\n",
       "    </tr>\n",
       "  </tbody>\n",
       "</table>\n",
       "<p>1599 rows × 11 columns</p>\n",
       "</div>"
      ],
      "text/plain": [
       "      fixed acidity  volatile acidity  citric acid  residual sugar  chlorides  \\\n",
       "0               7.4             0.700         0.00             1.9      0.076   \n",
       "1               7.8             0.880         0.00             2.6      0.098   \n",
       "2               7.8             0.760         0.04             2.3      0.092   \n",
       "3              11.2             0.280         0.56             1.9      0.075   \n",
       "4               7.4             0.700         0.00             1.9      0.076   \n",
       "...             ...               ...          ...             ...        ...   \n",
       "1594            6.2             0.600         0.08             2.0      0.090   \n",
       "1595            5.9             0.550         0.10             2.2      0.062   \n",
       "1596            6.3             0.510         0.13             2.3      0.076   \n",
       "1597            5.9             0.645         0.12             2.0      0.075   \n",
       "1598            6.0             0.310         0.47             3.6      0.067   \n",
       "\n",
       "      free sulfur dioxide  total sulfur dioxide  density    pH  sulphates  \\\n",
       "0                    11.0                  34.0  0.99780  3.51       0.56   \n",
       "1                    25.0                  67.0  0.99680  3.20       0.68   \n",
       "2                    15.0                  54.0  0.99700  3.26       0.65   \n",
       "3                    17.0                  60.0  0.99800  3.16       0.58   \n",
       "4                    11.0                  34.0  0.99780  3.51       0.56   \n",
       "...                   ...                   ...      ...   ...        ...   \n",
       "1594                 32.0                  44.0  0.99490  3.45       0.58   \n",
       "1595                 39.0                  51.0  0.99512  3.52       0.76   \n",
       "1596                 29.0                  40.0  0.99574  3.42       0.75   \n",
       "1597                 32.0                  44.0  0.99547  3.57       0.71   \n",
       "1598                 18.0                  42.0  0.99549  3.39       0.66   \n",
       "\n",
       "      alcohol  \n",
       "0         9.4  \n",
       "1         9.8  \n",
       "2         9.8  \n",
       "3         9.8  \n",
       "4         9.4  \n",
       "...       ...  \n",
       "1594     10.5  \n",
       "1595     11.2  \n",
       "1596     11.0  \n",
       "1597     10.2  \n",
       "1598     11.0  \n",
       "\n",
       "[1599 rows x 11 columns]"
      ]
     },
     "execution_count": 73,
     "metadata": {},
     "output_type": "execute_result"
    }
   ],
   "source": [
    "X"
   ]
  },
  {
   "cell_type": "code",
   "execution_count": 74,
   "id": "56d67a41",
   "metadata": {
    "scrolled": true
   },
   "outputs": [
    {
     "name": "stdout",
     "output_type": "stream",
     "text": [
      "<class 'pandas.core.frame.DataFrame'>\n",
      "RangeIndex: 1599 entries, 0 to 1598\n",
      "Data columns (total 11 columns):\n",
      " #   Column                Non-Null Count  Dtype  \n",
      "---  ------                --------------  -----  \n",
      " 0   fixed acidity         1599 non-null   float64\n",
      " 1   volatile acidity      1599 non-null   float64\n",
      " 2   citric acid           1599 non-null   float64\n",
      " 3   residual sugar        1599 non-null   float64\n",
      " 4   chlorides             1599 non-null   float64\n",
      " 5   free sulfur dioxide   1599 non-null   float64\n",
      " 6   total sulfur dioxide  1599 non-null   float64\n",
      " 7   density               1599 non-null   float64\n",
      " 8   pH                    1599 non-null   float64\n",
      " 9   sulphates             1599 non-null   float64\n",
      " 10  alcohol               1599 non-null   float64\n",
      "dtypes: float64(11)\n",
      "memory usage: 137.5 KB\n"
     ]
    }
   ],
   "source": [
    "X.info()"
   ]
  },
  {
   "cell_type": "code",
   "execution_count": 75,
   "id": "7df9dfe0",
   "metadata": {},
   "outputs": [],
   "source": [
    "list_metrics=[]"
   ]
  },
  {
   "cell_type": "markdown",
   "id": "c48c8710",
   "metadata": {},
   "source": [
    "# Modeling with Predictive Analytics Algorithms"
   ]
  },
  {
   "cell_type": "markdown",
   "id": "b407e294",
   "metadata": {},
   "source": [
    "## Lineer Regression"
   ]
  },
  {
   "cell_type": "markdown",
   "id": "005026cb",
   "metadata": {},
   "source": [
    "### Dataset has been splitted up two parts as train and test set"
   ]
  },
  {
   "cell_type": "code",
   "execution_count": 76,
   "id": "b26470c0",
   "metadata": {},
   "outputs": [],
   "source": [
    "X_train, X_test, Y_train, Y_test = train_test_split(X, y, test_size=0.2, random_state=63)"
   ]
  },
  {
   "cell_type": "markdown",
   "id": "7d62c9fe",
   "metadata": {},
   "source": [
    "### Train linear regression and calculate metrics by making the trained model predict"
   ]
  },
  {
   "cell_type": "code",
   "execution_count": 77,
   "id": "c34da6b2",
   "metadata": {},
   "outputs": [
    {
     "name": "stdout",
     "output_type": "stream",
     "text": [
      "MAE: 0.5058149053209454\n",
      "MSE: 0.4335460098873282\n",
      "RMSE: 0.6584421082276924\n",
      "R_2: 0.36902014792048765\n",
      "Modelin test setindeki performansı : 0.36902014792048765\n"
     ]
    }
   ],
   "source": [
    "lm=LinearRegression()\n",
    "lm.fit(X_train,Y_train)\n",
    "predictions=lm.predict(X_test)\n",
    "print('MAE:', metrics.mean_absolute_error(Y_test, predictions))\n",
    "print('MSE:', metrics.mean_squared_error(Y_test, predictions))\n",
    "print('RMSE:', np.sqrt(metrics.mean_squared_error(Y_test, predictions)))\n",
    "print('R_2:', metrics.r2_score(Y_test, predictions))\n",
    "print('Modelin test setindeki performansı :', lm.score(X_test,Y_test))\n",
    "lineer_metrics={}\n",
    "lineer_metrics['name']='Lineer Regresyon'\n",
    "lineer_metrics['MAE']=metrics.mean_absolute_error(Y_test, predictions)\n",
    "lineer_metrics['MSE']=metrics.mean_squared_error(Y_test, predictions)\n",
    "lineer_metrics['RMSE']=np.sqrt(metrics.mean_squared_error(Y_test, predictions))\n",
    "lineer_metrics['R_2']= metrics.r2_score(Y_test, predictions)\n",
    "list_metrics.append(lineer_metrics)"
   ]
  },
  {
   "cell_type": "markdown",
   "id": "93760716",
   "metadata": {},
   "source": [
    "### To fit the model to be used in reality with all the data. Coefficients to be used in reality"
   ]
  },
  {
   "cell_type": "code",
   "execution_count": 78,
   "id": "9d82acbe",
   "metadata": {},
   "outputs": [
    {
     "data": {
      "text/plain": [
       "array([ 2.49905527e-02, -1.08359026e+00, -1.82563948e-01,  1.63312698e-02,\n",
       "       -1.87422516e+00,  4.36133331e-03, -3.26457970e-03, -1.78811638e+01,\n",
       "       -4.13653144e-01,  9.16334413e-01,  2.76197699e-01])"
      ]
     },
     "execution_count": 78,
     "metadata": {},
     "output_type": "execute_result"
    }
   ],
   "source": [
    "lm.fit(X,y)\n",
    "lm.coef_"
   ]
  },
  {
   "cell_type": "markdown",
   "id": "f4f10b30",
   "metadata": {},
   "source": [
    "## Decision Tree Regression"
   ]
  },
  {
   "cell_type": "markdown",
   "id": "df15b679",
   "metadata": {},
   "source": [
    "### Dataset has been splitted up two parts as train and test set"
   ]
  },
  {
   "cell_type": "code",
   "execution_count": 79,
   "id": "afb6c28d",
   "metadata": {},
   "outputs": [],
   "source": [
    "X_train, X_test , y_train, y_test = train_test_split(X, y, test_size=0.2, random_state=63)"
   ]
  },
  {
   "cell_type": "markdown",
   "id": "0d6dea41",
   "metadata": {},
   "source": [
    "### By assigning 1000 values ​​between 0 and 1 to the alpha penalty parameters, the alpha value that gives a min Validation Error is sought. During this process, cross validation is done. Evaluation criteria neg_mean_squared_error. The results are thrown into a dataframe."
   ]
  },
  {
   "cell_type": "code",
   "execution_count": 80,
   "id": "71734406",
   "metadata": {},
   "outputs": [],
   "source": [
    "alphas = np.linspace(0,1,num=1000)\n",
    "CVErrors=[]\n",
    "for i in alphas:\n",
    "    regressor = DecisionTreeRegressor(ccp_alpha=i)\n",
    "    Errors=cross_val_score(regressor,X_train,y_train,scoring=\"neg_mean_squared_error\",cv=10)\n",
    "    CVErrors.append([i,-1*np.mean(Errors)])\n",
    "    df = pd.DataFrame(CVErrors,columns=['alpha','Validation Error'])"
   ]
  },
  {
   "cell_type": "markdown",
   "id": "7610cd0e",
   "metadata": {},
   "source": [
    "### The validation errors in the dataframe are listed and the alpha value with the lowest validation error is 0.005005"
   ]
  },
  {
   "cell_type": "code",
   "execution_count": 81,
   "id": "fa4225d2",
   "metadata": {},
   "outputs": [
    {
     "data": {
      "text/html": [
       "<div>\n",
       "<style scoped>\n",
       "    .dataframe tbody tr th:only-of-type {\n",
       "        vertical-align: middle;\n",
       "    }\n",
       "\n",
       "    .dataframe tbody tr th {\n",
       "        vertical-align: top;\n",
       "    }\n",
       "\n",
       "    .dataframe thead th {\n",
       "        text-align: right;\n",
       "    }\n",
       "</style>\n",
       "<table border=\"1\" class=\"dataframe\">\n",
       "  <thead>\n",
       "    <tr style=\"text-align: right;\">\n",
       "      <th></th>\n",
       "      <th>alpha</th>\n",
       "      <th>Validation Error</th>\n",
       "    </tr>\n",
       "  </thead>\n",
       "  <tbody>\n",
       "    <tr>\n",
       "      <th>5</th>\n",
       "      <td>0.005005</td>\n",
       "      <td>0.472721</td>\n",
       "    </tr>\n",
       "    <tr>\n",
       "      <th>4</th>\n",
       "      <td>0.004004</td>\n",
       "      <td>0.475122</td>\n",
       "    </tr>\n",
       "    <tr>\n",
       "      <th>3</th>\n",
       "      <td>0.003003</td>\n",
       "      <td>0.481400</td>\n",
       "    </tr>\n",
       "    <tr>\n",
       "      <th>10</th>\n",
       "      <td>0.010010</td>\n",
       "      <td>0.483794</td>\n",
       "    </tr>\n",
       "    <tr>\n",
       "      <th>7</th>\n",
       "      <td>0.007007</td>\n",
       "      <td>0.484722</td>\n",
       "    </tr>\n",
       "    <tr>\n",
       "      <th>...</th>\n",
       "      <td>...</td>\n",
       "      <td>...</td>\n",
       "    </tr>\n",
       "    <tr>\n",
       "      <th>999</th>\n",
       "      <td>1.000000</td>\n",
       "      <td>0.644176</td>\n",
       "    </tr>\n",
       "    <tr>\n",
       "      <th>125</th>\n",
       "      <td>0.125125</td>\n",
       "      <td>0.644714</td>\n",
       "    </tr>\n",
       "    <tr>\n",
       "      <th>124</th>\n",
       "      <td>0.124124</td>\n",
       "      <td>0.644714</td>\n",
       "    </tr>\n",
       "    <tr>\n",
       "      <th>123</th>\n",
       "      <td>0.123123</td>\n",
       "      <td>0.644714</td>\n",
       "    </tr>\n",
       "    <tr>\n",
       "      <th>122</th>\n",
       "      <td>0.122122</td>\n",
       "      <td>0.644714</td>\n",
       "    </tr>\n",
       "  </tbody>\n",
       "</table>\n",
       "<p>1000 rows × 2 columns</p>\n",
       "</div>"
      ],
      "text/plain": [
       "        alpha  Validation Error\n",
       "5    0.005005          0.472721\n",
       "4    0.004004          0.475122\n",
       "3    0.003003          0.481400\n",
       "10   0.010010          0.483794\n",
       "7    0.007007          0.484722\n",
       "..        ...               ...\n",
       "999  1.000000          0.644176\n",
       "125  0.125125          0.644714\n",
       "124  0.124124          0.644714\n",
       "123  0.123123          0.644714\n",
       "122  0.122122          0.644714\n",
       "\n",
       "[1000 rows x 2 columns]"
      ]
     },
     "execution_count": 81,
     "metadata": {},
     "output_type": "execute_result"
    }
   ],
   "source": [
    "kfoldCV_by_alpha=df.sort_values(by=['Validation Error'],ascending=True)\n",
    "kfoldCV_by_alpha"
   ]
  },
  {
   "cell_type": "markdown",
   "id": "e5b7ae7c",
   "metadata": {},
   "source": [
    "###  According to the selected alpha value, the decision tree regressor is fitted and predictions are made. Then the relevant metrics are calculated."
   ]
  },
  {
   "cell_type": "code",
   "execution_count": 82,
   "id": "a28ba891",
   "metadata": {},
   "outputs": [
    {
     "name": "stdout",
     "output_type": "stream",
     "text": [
      "MAE: 0.5628180078851652\n",
      "MSE: 0.5624913284566708\n",
      "RMSE: 0.7499942189488336\n",
      "R_2: 0.1813540267206314\n"
     ]
    }
   ],
   "source": [
    "regressor = DecisionTreeRegressor(ccp_alpha=0.0050005)  \n",
    "regressor.fit(X_train, y_train) \n",
    "y_pred = regressor.predict(X_test)\n",
    "print('MAE:', metrics.mean_absolute_error(y_test, y_pred))\n",
    "print('MSE:', metrics.mean_squared_error(y_test, y_pred))\n",
    "print('RMSE:', np.sqrt(metrics.mean_squared_error(y_test, y_pred)))\n",
    "print('R_2:', metrics.r2_score(y_test, y_pred))\n",
    "decision_metrics={}\n",
    "decision_metrics['name']='Decision Tree'\n",
    "decision_metrics['MAE']=metrics.mean_absolute_error(y_test, y_pred)\n",
    "decision_metrics['MSE']=metrics.mean_squared_error(y_test, y_pred)\n",
    "decision_metrics['RMSE']=np.sqrt(metrics.mean_squared_error(y_test, y_pred))\n",
    "decision_metrics['R_2']= metrics.r2_score(y_test, y_pred)\n",
    "list_metrics.append(decision_metrics)"
   ]
  },
  {
   "cell_type": "markdown",
   "id": "a6fd0076",
   "metadata": {},
   "source": [
    "## Random Forest Regression"
   ]
  },
  {
   "cell_type": "markdown",
   "id": "ac1fee45",
   "metadata": {},
   "source": [
    "### After dividing the data set as a train test split, the standardscaler was called to standardize the data from the preprocessing library, and a scaler instance was trained after it was created. Afterwards, the test and train sets were standardized separately so that the information in the test set would not leak into the train set."
   ]
  },
  {
   "cell_type": "code",
   "execution_count": 83,
   "id": "a1e9e4a2",
   "metadata": {},
   "outputs": [],
   "source": [
    "X_train, X_test , y_train, y_test = train_test_split(X, y, test_size=0.2, random_state=63)\n",
    "scaler = preprocessing.StandardScaler()\n",
    "scaler.fit(X_train)\n",
    "X_trainStandard = scaler.transform(X_train)\n",
    "X_testStandard = scaler.transform(X_test)"
   ]
  },
  {
   "cell_type": "markdown",
   "id": "0759dd44",
   "metadata": {},
   "source": [
    "### An example was created from RandomForestRegressor. Then a params variable consisting of different max_features and n_estimators was created. A grid has been created. A pipe line is sent because we do not want the training set and validation set to be mixed while doing grid search. First, the data will be standardized, then randomforest regressors will be made sequentially with the variables in the params. By cross-validation, the parameters that give the best neg_mean_squared_error as scoring will be taken and it will be printed by throwing it into the best_params_ variable.\n"
   ]
  },
  {
   "cell_type": "code",
   "execution_count": 84,
   "id": "7d6217b7",
   "metadata": {},
   "outputs": [
    {
     "name": "stdout",
     "output_type": "stream",
     "text": [
      "Fitting 5 folds for each of 30 candidates, totalling 150 fits\n",
      "{'Regressor__max_features': 4, 'Regressor__n_estimators': 300}\n"
     ]
    }
   ],
   "source": [
    "regressor=RandomForestRegressor(random_state=63)\n",
    "\n",
    "n_estimators = [100,200,300,400,500,600]\n",
    "\n",
    "max_features = [3,4,5,6,7]\n",
    "\n",
    "params = {\n",
    " 'Regressor__n_estimators': n_estimators,\n",
    " 'Regressor__max_features': max_features,\n",
    " }\n",
    "\n",
    "pipe = Pipeline([('scaler',preprocessing.StandardScaler()),('Regressor', regressor)])\n",
    "\n",
    "\n",
    "clf_grid = GridSearchCV(estimator = pipe, param_grid = params, \n",
    "                                cv = 5, verbose=2, scoring='neg_mean_squared_error',n_jobs = -1)\n",
    "\n",
    "clf_grid.fit(X_train, y_train)\n",
    "\n",
    "print(clf_grid.best_params_)"
   ]
  },
  {
   "cell_type": "markdown",
   "id": "8e553b87",
   "metadata": {},
   "source": [
    "### By taking the n_estimator and max_features values ​​from the best_params_ variable above, regression will be trained, predictions will be made and metrics will be checked.¶"
   ]
  },
  {
   "cell_type": "code",
   "execution_count": 85,
   "id": "204a887b",
   "metadata": {},
   "outputs": [
    {
     "name": "stdout",
     "output_type": "stream",
     "text": [
      "MAE: 0.41961458333333324\n",
      "MSE: 0.35510309027777776\n",
      "RMSE: 0.5959052695502681\n",
      "R_2: 0.48318542838237544\n"
     ]
    }
   ],
   "source": [
    "clf=RandomForestRegressor(random_state=63,n_estimators=300,max_features=4)\n",
    "clf.fit(X_trainStandard,y_train)\n",
    "y_pred=clf.predict(X_testStandard)\n",
    "print('MAE:', metrics.mean_absolute_error(y_test, y_pred))\n",
    "print('MSE:', metrics.mean_squared_error(y_test, y_pred))\n",
    "print('RMSE:', np.sqrt(metrics.mean_squared_error(y_test, y_pred)))\n",
    "print('R_2:', metrics.r2_score(y_test, y_pred))\n",
    "rf_metrics={}\n",
    "rf_metrics['name']='Random Forest'\n",
    "rf_metrics['MAE']=metrics.mean_absolute_error(y_test, y_pred)\n",
    "rf_metrics['MSE']=metrics.mean_squared_error(y_test, y_pred)\n",
    "rf_metrics['RMSE']=np.sqrt(metrics.mean_squared_error(y_test, y_pred))\n",
    "rf_metrics['R_2']=metrics.r2_score(y_test, y_pred)\n",
    "list_metrics.append(rf_metrics)"
   ]
  },
  {
   "cell_type": "markdown",
   "id": "7afc4ca1",
   "metadata": {},
   "source": [
    "## XGBoost Regression"
   ]
  },
  {
   "cell_type": "markdown",
   "id": "91e2b262",
   "metadata": {},
   "source": [
    "### After dividing the data set as a train test split, the standardscaler was called to standardize the data from the preprocessing library, and a scaler instance was trained after it was created. Afterwards, the test and train sets were standardized separately so that the information in the test set would not leak into the train set."
   ]
  },
  {
   "cell_type": "code",
   "execution_count": 86,
   "id": "9bfb5ad7",
   "metadata": {},
   "outputs": [],
   "source": [
    "X_train, X_test , y_train, y_test = train_test_split(X, y, test_size=0.2, random_state=63)\n",
    "scaler = preprocessing.StandardScaler()\n",
    "scaler.fit(X_train)\n",
    "X_trainStandard = scaler.transform(X_train)\n",
    "X_testtransformed = scaler.transform(X_test)"
   ]
  },
  {
   "cell_type": "markdown",
   "id": "88c88de8",
   "metadata": {},
   "source": [
    "### An example was created from XGBoost Regression. Afterwards, a params variable consisting of different learning_rate and n_estimators was created. A grid has been created. A pipe line is sent because we don't want the training set and validation set to get mixed up while doing grid search. First, the data will be standardized, then XGBoost Regression will be done sequentially with the variables in the params. By cross-validation, the parameters that give the best neg_mean_squared_error as scoring will be taken and it will be printed by throwing it into the best_params_ variable."
   ]
  },
  {
   "cell_type": "code",
   "execution_count": 87,
   "id": "5626fa3b",
   "metadata": {},
   "outputs": [
    {
     "name": "stdout",
     "output_type": "stream",
     "text": [
      "Fitting 5 folds for each of 16 candidates, totalling 80 fits\n",
      "{'Regressor__learning_rate': 0.01, 'Regressor__n_estimators': 5000}\n"
     ]
    }
   ],
   "source": [
    "model=XGBRegressor()\n",
    "n_estimators = [100,1000,5000,10000]\n",
    "\n",
    "learning_rate = [1,0.1,0.01,0.001]\n",
    "\n",
    "params = {\n",
    " 'Regressor__n_estimators': n_estimators,\n",
    " 'Regressor__learning_rate': learning_rate,\n",
    " }\n",
    "\n",
    "pipe = Pipeline([('scaler',preprocessing.StandardScaler()),('Regressor', model)])\n",
    "\n",
    "boost_grid = GridSearchCV(estimator = pipe, param_grid = params, \n",
    "                                cv = 5, verbose=2, scoring='neg_mean_squared_error',n_jobs = -1)\n",
    "\n",
    "boost_grid.fit(X_train, y_train)\n",
    "\n",
    "print(boost_grid.best_params_)"
   ]
  },
  {
   "cell_type": "markdown",
   "id": "494a9896",
   "metadata": {},
   "source": [
    "### By taking the n_estimator and learning_rate values ​​from the best_params_ variable above, the regression will be trained, the prediction will be made and the metrics calculated."
   ]
  },
  {
   "cell_type": "code",
   "execution_count": 88,
   "id": "a72daaf3",
   "metadata": {},
   "outputs": [
    {
     "name": "stdout",
     "output_type": "stream",
     "text": [
      "MAE: 0.4880440859570642\n",
      "MSE: 0.4093722388748498\n",
      "RMSE: 0.639822036878107\n",
      "R_2: 0.4042024863800705\n"
     ]
    }
   ],
   "source": [
    "model=GradientBoostingRegressor(n_estimators=5000,max_depth=1,learning_rate=0.01)\n",
    "model.fit(X_trainStandard,y_train)\n",
    "y_pred=model.predict(X_testtransformed)\n",
    "print('MAE:', metrics.mean_absolute_error(y_test, y_pred))\n",
    "print('MSE:', metrics.mean_squared_error(y_test, y_pred))\n",
    "print('RMSE:', np.sqrt(metrics.mean_squared_error(y_test, y_pred)))\n",
    "print('R_2:', metrics.r2_score(y_test, y_pred))\n",
    "xg_metrics={}\n",
    "xg_metrics['name']='XGBoost'\n",
    "xg_metrics['MAE']=metrics.mean_absolute_error(y_test, y_pred)\n",
    "xg_metrics['MSE']=metrics.mean_squared_error(y_test, y_pred)\n",
    "xg_metrics['RMSE']= np.sqrt(metrics.mean_squared_error(y_test, y_pred))\n",
    "xg_metrics['R_2']= metrics.r2_score(y_test, y_pred)\n",
    "list_metrics.append(xg_metrics)"
   ]
  },
  {
   "cell_type": "markdown",
   "id": "506d2f7a",
   "metadata": {},
   "source": [
    "## Comparison of results"
   ]
  },
  {
   "cell_type": "code",
   "execution_count": 89,
   "id": "f9ef5444",
   "metadata": {},
   "outputs": [
    {
     "data": {
      "text/plain": [
       "[{'name': 'Lineer Regresyon',\n",
       "  'MAE': 0.5058149053209454,\n",
       "  'MSE': 0.4335460098873282,\n",
       "  'RMSE': 0.6584421082276924,\n",
       "  'R_2': 0.36902014792048765},\n",
       " {'name': 'Decision Tree',\n",
       "  'MAE': 0.5628180078851652,\n",
       "  'MSE': 0.5624913284566708,\n",
       "  'RMSE': 0.7499942189488336,\n",
       "  'R_2': 0.1813540267206314},\n",
       " {'name': 'Random Forest',\n",
       "  'MAE': 0.41961458333333324,\n",
       "  'MSE': 0.35510309027777776,\n",
       "  'RMSE': 0.5959052695502681,\n",
       "  'R_2': 0.48318542838237544},\n",
       " {'name': 'XGBoost',\n",
       "  'MAE': 0.4880440859570642,\n",
       "  'MSE': 0.4093722388748498,\n",
       "  'RMSE': 0.639822036878107,\n",
       "  'R_2': 0.4042024863800705}]"
      ]
     },
     "execution_count": 89,
     "metadata": {},
     "output_type": "execute_result"
    }
   ],
   "source": [
    "list_metrics"
   ]
  },
  {
   "cell_type": "code",
   "execution_count": 90,
   "id": "d395ac6f",
   "metadata": {},
   "outputs": [],
   "source": [
    "metrics=pd.DataFrame(list_metrics)"
   ]
  },
  {
   "cell_type": "code",
   "execution_count": 91,
   "id": "5bb04b9b",
   "metadata": {
    "scrolled": true
   },
   "outputs": [
    {
     "data": {
      "text/html": [
       "<div>\n",
       "<style scoped>\n",
       "    .dataframe tbody tr th:only-of-type {\n",
       "        vertical-align: middle;\n",
       "    }\n",
       "\n",
       "    .dataframe tbody tr th {\n",
       "        vertical-align: top;\n",
       "    }\n",
       "\n",
       "    .dataframe thead th {\n",
       "        text-align: right;\n",
       "    }\n",
       "</style>\n",
       "<table border=\"1\" class=\"dataframe\">\n",
       "  <thead>\n",
       "    <tr style=\"text-align: right;\">\n",
       "      <th></th>\n",
       "      <th>name</th>\n",
       "      <th>MAE</th>\n",
       "      <th>MSE</th>\n",
       "      <th>RMSE</th>\n",
       "      <th>R_2</th>\n",
       "    </tr>\n",
       "  </thead>\n",
       "  <tbody>\n",
       "    <tr>\n",
       "      <th>0</th>\n",
       "      <td>Lineer Regresyon</td>\n",
       "      <td>0.505815</td>\n",
       "      <td>0.433546</td>\n",
       "      <td>0.658442</td>\n",
       "      <td>0.369020</td>\n",
       "    </tr>\n",
       "    <tr>\n",
       "      <th>1</th>\n",
       "      <td>Decision Tree</td>\n",
       "      <td>0.562818</td>\n",
       "      <td>0.562491</td>\n",
       "      <td>0.749994</td>\n",
       "      <td>0.181354</td>\n",
       "    </tr>\n",
       "    <tr>\n",
       "      <th>2</th>\n",
       "      <td>Random Forest</td>\n",
       "      <td>0.419615</td>\n",
       "      <td>0.355103</td>\n",
       "      <td>0.595905</td>\n",
       "      <td>0.483185</td>\n",
       "    </tr>\n",
       "    <tr>\n",
       "      <th>3</th>\n",
       "      <td>XGBoost</td>\n",
       "      <td>0.488044</td>\n",
       "      <td>0.409372</td>\n",
       "      <td>0.639822</td>\n",
       "      <td>0.404202</td>\n",
       "    </tr>\n",
       "  </tbody>\n",
       "</table>\n",
       "</div>"
      ],
      "text/plain": [
       "               name       MAE       MSE      RMSE       R_2\n",
       "0  Lineer Regresyon  0.505815  0.433546  0.658442  0.369020\n",
       "1     Decision Tree  0.562818  0.562491  0.749994  0.181354\n",
       "2     Random Forest  0.419615  0.355103  0.595905  0.483185\n",
       "3           XGBoost  0.488044  0.409372  0.639822  0.404202"
      ]
     },
     "execution_count": 91,
     "metadata": {},
     "output_type": "execute_result"
    }
   ],
   "source": [
    "metrics"
   ]
  },
  {
   "cell_type": "markdown",
   "id": "90422e6e",
   "metadata": {},
   "source": [
    "## As you can see, we get the lowest errors and the highest r2 score results with Random Forrest Regressor."
   ]
  },
  {
   "cell_type": "markdown",
   "id": "532f7b53",
   "metadata": {},
   "source": [
    "## Let's examine feature importance in our Random Forest Regression. We are doing the regression again."
   ]
  },
  {
   "cell_type": "code",
   "execution_count": 92,
   "id": "3489c47c",
   "metadata": {},
   "outputs": [],
   "source": [
    "X_train, X_test , y_train, y_test = train_test_split(X, y, test_size=0.2, random_state=63)\n",
    "scaler = preprocessing.StandardScaler()\n",
    "scaler.fit(X_train)\n",
    "X_trainStandard = scaler.transform(X_train)\n",
    "X_testStandard = scaler.transform(X_test)"
   ]
  },
  {
   "cell_type": "code",
   "execution_count": 93,
   "id": "c3693fed",
   "metadata": {},
   "outputs": [
    {
     "data": {
      "text/plain": [
       "RandomForestRegressor(max_features=4, n_estimators=300, random_state=63)"
      ]
     },
     "execution_count": 93,
     "metadata": {},
     "output_type": "execute_result"
    }
   ],
   "source": [
    "clf=RandomForestRegressor(random_state=63,n_estimators=300,max_features=4)\n",
    "clf.fit(X_trainStandard,y_train)"
   ]
  },
  {
   "cell_type": "markdown",
   "id": "f1f23b04",
   "metadata": {},
   "source": [
    "### Feature Importance"
   ]
  },
  {
   "cell_type": "code",
   "execution_count": 94,
   "id": "6b54aeaf",
   "metadata": {},
   "outputs": [
    {
     "data": {
      "text/plain": [
       "array([0.06051317, 0.11672224, 0.06377315, 0.05800202, 0.07457193,\n",
       "       0.05083936, 0.081645  , 0.08416711, 0.05764603, 0.13889526,\n",
       "       0.21322474])"
      ]
     },
     "execution_count": 94,
     "metadata": {},
     "output_type": "execute_result"
    }
   ],
   "source": [
    "clf.feature_importances_"
   ]
  },
  {
   "cell_type": "markdown",
   "id": "b97fa173",
   "metadata": {},
   "source": [
    "### Feature Importance array matched with columns"
   ]
  },
  {
   "cell_type": "code",
   "execution_count": 95,
   "id": "17177e6b",
   "metadata": {},
   "outputs": [
    {
     "data": {
      "text/plain": [
       "{'fixed acidity': 0.06051316574790184,\n",
       " 'volatile acidity': 0.11672224302986728,\n",
       " 'citric acid': 0.06377314806777502,\n",
       " 'residual sugar': 0.05800201532806,\n",
       " 'chlorides': 0.07457192898895999,\n",
       " 'free sulfur dioxide': 0.05083935576642283,\n",
       " 'total sulfur dioxide': 0.08164500024584674,\n",
       " 'density': 0.08416710991559798,\n",
       " 'pH': 0.05764603048541947,\n",
       " 'sulphates': 0.13889525815850715,\n",
       " 'alcohol': 0.21322474426564172}"
      ]
     },
     "execution_count": 95,
     "metadata": {},
     "output_type": "execute_result"
    }
   ],
   "source": [
    "feature_dict = dict(zip(X.columns, list(clf.feature_importances_)))\n",
    "feature_dict"
   ]
  },
  {
   "cell_type": "markdown",
   "id": "b58736a6",
   "metadata": {},
   "source": [
    "### As can be seen, according to the results we obtained from our data set, the 3 most important physicochemical properties that determine the quality value of a wine were determined as alcohol, sulphates and volatile acidity, respectively."
   ]
  },
  {
   "cell_type": "markdown",
   "id": "fc98aa75",
   "metadata": {},
   "source": [
    "###  Although the variable quality takes values ​​between 0 and 10 in our data, there are no samples for quality values ​​of 0,1,2,9 and 10. When a regression approach is applied, it is thought that it will not yield successful results in reality, since it is thought that the necessary learning for these quality values ​​cannot be obtained from the data. A classification algorithm can be applied by making a slight change in the data set. For this, the samples with a quality value of 6 and higher are 1, ie high quality; Samples with a quality value less than 6 will be assigned 0, ie low quality values. With the classification methods, predictions will be made with the models to be established according to whether the wine is high or low quality, that is, 1 or 0."
   ]
  },
  {
   "cell_type": "markdown",
   "id": "10c5309c",
   "metadata": {},
   "source": [
    "### Data has been read again."
   ]
  },
  {
   "cell_type": "code",
   "execution_count": 96,
   "id": "143a25a2",
   "metadata": {
    "scrolled": true
   },
   "outputs": [
    {
     "data": {
      "text/html": [
       "<div>\n",
       "<style scoped>\n",
       "    .dataframe tbody tr th:only-of-type {\n",
       "        vertical-align: middle;\n",
       "    }\n",
       "\n",
       "    .dataframe tbody tr th {\n",
       "        vertical-align: top;\n",
       "    }\n",
       "\n",
       "    .dataframe thead th {\n",
       "        text-align: right;\n",
       "    }\n",
       "</style>\n",
       "<table border=\"1\" class=\"dataframe\">\n",
       "  <thead>\n",
       "    <tr style=\"text-align: right;\">\n",
       "      <th></th>\n",
       "      <th>fixed acidity</th>\n",
       "      <th>volatile acidity</th>\n",
       "      <th>citric acid</th>\n",
       "      <th>residual sugar</th>\n",
       "      <th>chlorides</th>\n",
       "      <th>free sulfur dioxide</th>\n",
       "      <th>total sulfur dioxide</th>\n",
       "      <th>density</th>\n",
       "      <th>pH</th>\n",
       "      <th>sulphates</th>\n",
       "      <th>alcohol</th>\n",
       "      <th>quality</th>\n",
       "    </tr>\n",
       "  </thead>\n",
       "  <tbody>\n",
       "    <tr>\n",
       "      <th>0</th>\n",
       "      <td>7.4</td>\n",
       "      <td>0.70</td>\n",
       "      <td>0.00</td>\n",
       "      <td>1.9</td>\n",
       "      <td>0.076</td>\n",
       "      <td>11.0</td>\n",
       "      <td>34.0</td>\n",
       "      <td>0.9978</td>\n",
       "      <td>3.51</td>\n",
       "      <td>0.56</td>\n",
       "      <td>9.4</td>\n",
       "      <td>5</td>\n",
       "    </tr>\n",
       "    <tr>\n",
       "      <th>1</th>\n",
       "      <td>7.8</td>\n",
       "      <td>0.88</td>\n",
       "      <td>0.00</td>\n",
       "      <td>2.6</td>\n",
       "      <td>0.098</td>\n",
       "      <td>25.0</td>\n",
       "      <td>67.0</td>\n",
       "      <td>0.9968</td>\n",
       "      <td>3.20</td>\n",
       "      <td>0.68</td>\n",
       "      <td>9.8</td>\n",
       "      <td>5</td>\n",
       "    </tr>\n",
       "    <tr>\n",
       "      <th>2</th>\n",
       "      <td>7.8</td>\n",
       "      <td>0.76</td>\n",
       "      <td>0.04</td>\n",
       "      <td>2.3</td>\n",
       "      <td>0.092</td>\n",
       "      <td>15.0</td>\n",
       "      <td>54.0</td>\n",
       "      <td>0.9970</td>\n",
       "      <td>3.26</td>\n",
       "      <td>0.65</td>\n",
       "      <td>9.8</td>\n",
       "      <td>5</td>\n",
       "    </tr>\n",
       "    <tr>\n",
       "      <th>3</th>\n",
       "      <td>11.2</td>\n",
       "      <td>0.28</td>\n",
       "      <td>0.56</td>\n",
       "      <td>1.9</td>\n",
       "      <td>0.075</td>\n",
       "      <td>17.0</td>\n",
       "      <td>60.0</td>\n",
       "      <td>0.9980</td>\n",
       "      <td>3.16</td>\n",
       "      <td>0.58</td>\n",
       "      <td>9.8</td>\n",
       "      <td>6</td>\n",
       "    </tr>\n",
       "    <tr>\n",
       "      <th>4</th>\n",
       "      <td>7.4</td>\n",
       "      <td>0.70</td>\n",
       "      <td>0.00</td>\n",
       "      <td>1.9</td>\n",
       "      <td>0.076</td>\n",
       "      <td>11.0</td>\n",
       "      <td>34.0</td>\n",
       "      <td>0.9978</td>\n",
       "      <td>3.51</td>\n",
       "      <td>0.56</td>\n",
       "      <td>9.4</td>\n",
       "      <td>5</td>\n",
       "    </tr>\n",
       "  </tbody>\n",
       "</table>\n",
       "</div>"
      ],
      "text/plain": [
       "   fixed acidity  volatile acidity  citric acid  residual sugar  chlorides  \\\n",
       "0            7.4              0.70         0.00             1.9      0.076   \n",
       "1            7.8              0.88         0.00             2.6      0.098   \n",
       "2            7.8              0.76         0.04             2.3      0.092   \n",
       "3           11.2              0.28         0.56             1.9      0.075   \n",
       "4            7.4              0.70         0.00             1.9      0.076   \n",
       "\n",
       "   free sulfur dioxide  total sulfur dioxide  density    pH  sulphates  \\\n",
       "0                 11.0                  34.0   0.9978  3.51       0.56   \n",
       "1                 25.0                  67.0   0.9968  3.20       0.68   \n",
       "2                 15.0                  54.0   0.9970  3.26       0.65   \n",
       "3                 17.0                  60.0   0.9980  3.16       0.58   \n",
       "4                 11.0                  34.0   0.9978  3.51       0.56   \n",
       "\n",
       "   alcohol  quality  \n",
       "0      9.4        5  \n",
       "1      9.8        5  \n",
       "2      9.8        5  \n",
       "3      9.8        6  \n",
       "4      9.4        5  "
      ]
     },
     "execution_count": 96,
     "metadata": {},
     "output_type": "execute_result"
    }
   ],
   "source": [
    "data=pd.read_csv('winequality-red.csv')\n",
    "data_copy=data\n",
    "data.head()"
   ]
  },
  {
   "cell_type": "markdown",
   "id": "4bdfe843",
   "metadata": {},
   "source": [
    "### Label (dependant) and feature (independent variable) values ​​were assigned."
   ]
  },
  {
   "cell_type": "code",
   "execution_count": 97,
   "id": "f22172b7",
   "metadata": {},
   "outputs": [],
   "source": [
    "y=data['quality'].values\n",
    "X=data.drop([\"quality\"],axis=1)"
   ]
  },
  {
   "cell_type": "markdown",
   "id": "e9072656",
   "metadata": {},
   "source": [
    "### For samples with a Quality value of 6 or higher, 1, that is, high quality; Samples with a Quality value less than 6 were assigned values ​​of 0, that is, poor quality."
   ]
  },
  {
   "cell_type": "code",
   "execution_count": 98,
   "id": "d2c47616",
   "metadata": {},
   "outputs": [
    {
     "data": {
      "text/plain": [
       "(array([0, 1, 2, 3, 4, 5]),\n",
       " [Text(0, 0, '5'),\n",
       "  Text(1, 0, '6'),\n",
       "  Text(2, 0, '7'),\n",
       "  Text(3, 0, '4'),\n",
       "  Text(4, 0, '8'),\n",
       "  Text(5, 0, '3')])"
      ]
     },
     "execution_count": 98,
     "metadata": {},
     "output_type": "execute_result"
    },
    {
     "data": {
      "image/png": "[encoded data removed]",
      "text/plain": [
       "<Figure size 432x288 with 1 Axes>"
      ]
     },
     "metadata": {
      "needs_background": "light"
     },
     "output_type": "display_data"
    }
   ],
   "source": [
    "data['quality'].value_counts().plot(kind=\"bar\",color=[\"red\", \"blue\",\"green\",\"black\",\"yellow\",\"brown\"]);\n",
    "plt.xticks(rotation=0)"
   ]
  },
  {
   "cell_type": "code",
   "execution_count": 99,
   "id": "ce054463",
   "metadata": {},
   "outputs": [
    {
     "data": {
      "text/plain": [
       "array([0, 0, 0, ..., 1, 0, 1], dtype=int64)"
      ]
     },
     "execution_count": 99,
     "metadata": {},
     "output_type": "execute_result"
    }
   ],
   "source": [
    "for i in range(len(y)):\n",
    "    if y[i] >= 6:\n",
    "        y[i]=1\n",
    "    else:\n",
    "        y[i]=0\n",
    "y"
   ]
  },
  {
   "cell_type": "code",
   "execution_count": 100,
   "id": "1aa55495",
   "metadata": {},
   "outputs": [
    {
     "data": {
      "text/plain": [
       "1599"
      ]
     },
     "execution_count": 100,
     "metadata": {},
     "output_type": "execute_result"
    }
   ],
   "source": [
    "len(y)"
   ]
  },
  {
   "cell_type": "code",
   "execution_count": 101,
   "id": "2900d30a",
   "metadata": {},
   "outputs": [
    {
     "data": {
      "text/plain": [
       "855"
      ]
     },
     "execution_count": 101,
     "metadata": {},
     "output_type": "execute_result"
    }
   ],
   "source": [
    "y.sum()"
   ]
  },
  {
   "cell_type": "code",
   "execution_count": 102,
   "id": "18b522e5",
   "metadata": {},
   "outputs": [
    {
     "data": {
      "text/plain": [
       "744"
      ]
     },
     "execution_count": 102,
     "metadata": {},
     "output_type": "execute_result"
    }
   ],
   "source": [
    "len(y)-y.sum()"
   ]
  },
  {
   "cell_type": "markdown",
   "id": "14edff45",
   "metadata": {},
   "source": [
    "### For a total of 1599 samples, it was determined that there were 855 high-quality 744 low-quality data points. The distribution of 1 and 0 values ​​is almost equal."
   ]
  },
  {
   "cell_type": "code",
   "execution_count": 103,
   "id": "de7c4f56",
   "metadata": {},
   "outputs": [],
   "source": [
    "list_m=[]"
   ]
  },
  {
   "cell_type": "markdown",
   "id": "340697fc",
   "metadata": {},
   "source": [
    "## Logistic Regression"
   ]
  },
  {
   "cell_type": "markdown",
   "id": "9b60f718",
   "metadata": {},
   "source": [
    "### The data was divided into train and test."
   ]
  },
  {
   "cell_type": "code",
   "execution_count": 104,
   "id": "202d6fb5",
   "metadata": {},
   "outputs": [],
   "source": [
    "X_train, X_test , y_train, y_test = train_test_split(X, y, test_size=0.2, random_state=63)"
   ]
  },
  {
   "cell_type": "markdown",
   "id": "7ed1c291",
   "metadata": {},
   "source": [
    "### An instance named pipe was created from the Pipeline object. Afterwards, a search_space variable consisting of different c parameter and penalty values ​​was created. A grid has been created. A pipe line is sent because we do not want the training set and validation set to interfere with each other while doing grid search. First, the data will be standardized, then Logistic Regression will be done sequentially with the variables in the search_space. By cross-Validation, the parameters that give the best results as scoring will be taken and it will be printed by throwing them into the best_params_ variable."
   ]
  },
  {
   "cell_type": "code",
   "execution_count": 105,
   "id": "78f03fc0",
   "metadata": {},
   "outputs": [
    {
     "data": {
      "text/plain": [
       "{'memory': None,\n",
       " 'steps': [('Classifier',\n",
       "   LogisticRegression(C=2.592943797404667, solver='liblinear'))],\n",
       " 'verbose': False,\n",
       " 'Classifier': LogisticRegression(C=2.592943797404667, solver='liblinear'),\n",
       " 'Classifier__C': 2.592943797404667,\n",
       " 'Classifier__class_weight': None,\n",
       " 'Classifier__dual': False,\n",
       " 'Classifier__fit_intercept': True,\n",
       " 'Classifier__intercept_scaling': 1,\n",
       " 'Classifier__l1_ratio': None,\n",
       " 'Classifier__max_iter': 100,\n",
       " 'Classifier__multi_class': 'auto',\n",
       " 'Classifier__n_jobs': None,\n",
       " 'Classifier__penalty': 'l2',\n",
       " 'Classifier__random_state': None,\n",
       " 'Classifier__solver': 'liblinear',\n",
       " 'Classifier__tol': 0.0001,\n",
       " 'Classifier__verbose': 0,\n",
       " 'Classifier__warm_start': False}"
      ]
     },
     "execution_count": 105,
     "metadata": {},
     "output_type": "execute_result"
    }
   ],
   "source": [
    "pipe = Pipeline([('Classifier', LogisticRegression())])\n",
    "\n",
    "\n",
    "search_space = [{'Classifier': [LogisticRegression(solver='liblinear')],\n",
    "                 'Classifier__C': np.logspace(-4, 4, 30),\n",
    "                 'Classifier__penalty':['l1','l2']}]\n",
    "\n",
    "clf = GridSearchCV(pipe, search_space, cv=5, verbose=0)\n",
    "\n",
    "best_model = clf.fit(X_train, y_train)\n",
    "\n",
    "best_model.best_estimator_.get_params()"
   ]
  },
  {
   "cell_type": "code",
   "execution_count": 106,
   "id": "27ba4590",
   "metadata": {},
   "outputs": [
    {
     "data": {
      "text/plain": [
       "{'Classifier': LogisticRegression(C=2.592943797404667, solver='liblinear'),\n",
       " 'Classifier__C': 2.592943797404667,\n",
       " 'Classifier__penalty': 'l2'}"
      ]
     },
     "execution_count": 106,
     "metadata": {},
     "output_type": "execute_result"
    }
   ],
   "source": [
    "best_model.best_params_"
   ]
  },
  {
   "cell_type": "markdown",
   "id": "888dc7ef",
   "metadata": {},
   "source": [
    "### The model was trained with the best parameters and the relevant metrics were created by making predictions."
   ]
  },
  {
   "cell_type": "code",
   "execution_count": 107,
   "id": "46653024",
   "metadata": {},
   "outputs": [
    {
     "name": "stdout",
     "output_type": "stream",
     "text": [
      "Accuracy: 0.759375\n"
     ]
    }
   ],
   "source": [
    "model=LogisticRegression(C=2.592943797404667,penalty='l2',solver='liblinear')\n",
    "model.fit(X_train,y_train)\n",
    "y_pred=model.predict(X_test)\n",
    "print('Accuracy:', accuracy_score(y_test, y_pred))\n",
    "dic_log={}\n",
    "dic_log['name']='Logistic'\n",
    "dic_log['Accuracy']=accuracy_score(y_test, y_pred)\n",
    "list_m.append(dic_log)"
   ]
  },
  {
   "cell_type": "markdown",
   "id": "321efcf8",
   "metadata": {},
   "source": [
    "## KNN"
   ]
  },
  {
   "cell_type": "markdown",
   "id": "81ff8ee5",
   "metadata": {},
   "source": [
    "### The data was divided into train and test."
   ]
  },
  {
   "cell_type": "code",
   "execution_count": 108,
   "id": "01e2e44d",
   "metadata": {},
   "outputs": [],
   "source": [
    "X_train, X_test , y_train, y_test = train_test_split(X, y, test_size=0.2, random_state=63)"
   ]
  },
  {
   "cell_type": "markdown",
   "id": "d19620ac",
   "metadata": {},
   "source": [
    "### An instance named pipe was created from the Pipeline object. Then a search_space variable consisting of different n_neighbors values ​​is created. A grid has been created. A pipe line is sent because we do not want the training set and validation set to interfere with each other while doing grid search. First, the data will be standardized, then the KNeighborsClassifier will be made sequentially with the variables in the search_space. By cross-Validation, the parameters that give the best results as scoring will be taken and it will be printed by throwing them into the best_params_ variable."
   ]
  },
  {
   "cell_type": "code",
   "execution_count": 109,
   "id": "3580b682",
   "metadata": {},
   "outputs": [
    {
     "data": {
      "text/plain": [
       "{'memory': None,\n",
       " 'steps': [('Classifier', KNeighborsClassifier(n_neighbors=3))],\n",
       " 'verbose': False,\n",
       " 'Classifier': KNeighborsClassifier(n_neighbors=3),\n",
       " 'Classifier__algorithm': 'auto',\n",
       " 'Classifier__leaf_size': 30,\n",
       " 'Classifier__metric': 'minkowski',\n",
       " 'Classifier__metric_params': None,\n",
       " 'Classifier__n_jobs': None,\n",
       " 'Classifier__n_neighbors': 3,\n",
       " 'Classifier__p': 2,\n",
       " 'Classifier__weights': 'uniform'}"
      ]
     },
     "execution_count": 109,
     "metadata": {},
     "output_type": "execute_result"
    }
   ],
   "source": [
    "pipe = Pipeline([('Classifier', KNeighborsClassifier())])\n",
    "\n",
    "\n",
    "search_space = [{'Classifier': [KNeighborsClassifier()],\n",
    "                 'Classifier__n_neighbors':[2,3,4,5,6]}]\n",
    "\n",
    "\n",
    "clf = GridSearchCV(pipe, search_space, cv=5, verbose=0)\n",
    "\n",
    "best_model = clf.fit(X_train, y_train)\n",
    "\n",
    "best_model.best_estimator_.get_params()"
   ]
  },
  {
   "cell_type": "code",
   "execution_count": 110,
   "id": "00c4370f",
   "metadata": {},
   "outputs": [
    {
     "data": {
      "text/plain": [
       "{'Classifier': KNeighborsClassifier(n_neighbors=3),\n",
       " 'Classifier__n_neighbors': 3}"
      ]
     },
     "execution_count": 110,
     "metadata": {},
     "output_type": "execute_result"
    }
   ],
   "source": [
    "best_model.best_params_"
   ]
  },
  {
   "cell_type": "markdown",
   "id": "f1dc8717",
   "metadata": {},
   "source": [
    "### The model was trained with the best parameters and the relevant metrics were created by making predictions."
   ]
  },
  {
   "cell_type": "code",
   "execution_count": 111,
   "id": "d5edce7f",
   "metadata": {},
   "outputs": [
    {
     "name": "stdout",
     "output_type": "stream",
     "text": [
      "Accuracy: 0.675\n"
     ]
    }
   ],
   "source": [
    "knn = KNeighborsClassifier(n_neighbors=3)\n",
    "knn.fit(X_train,y_train)\n",
    "y_pred=knn.predict(X_test)\n",
    "print('Accuracy:', accuracy_score(y_test, y_pred))\n",
    "dic_knn={}\n",
    "dic_knn['name']='KNN'\n",
    "dic_knn['Accuracy']=accuracy_score(y_test, y_pred)\n",
    "list_m.append(dic_knn)"
   ]
  },
  {
   "cell_type": "markdown",
   "id": "1a1e5079",
   "metadata": {},
   "source": [
    "## Random Forest Classifier"
   ]
  },
  {
   "cell_type": "markdown",
   "id": "da890d28",
   "metadata": {},
   "source": [
    "### The data was divided into train and test."
   ]
  },
  {
   "cell_type": "code",
   "execution_count": 112,
   "id": "55a749cc",
   "metadata": {},
   "outputs": [],
   "source": [
    "X_train, X_test , y_train, y_test = train_test_split(X, y, test_size=0.2, random_state=63)"
   ]
  },
  {
   "cell_type": "markdown",
   "id": "fe54ba36",
   "metadata": {},
   "source": [
    "### An instance named pipe was created from the Pipeline object. Afterwards, a search_space variable consisting of different n_estimators and max_features values ​​was created. A grid has been created. A pipe line is sent because we do not want the training set and validation set to interfere with each other while doing grid search. First, the data will be standardized, then RandomForestClassifier will be made sequentially with the variables in the search_space. By cross-Validation, the parameters that give the best results as scoring will be taken and it will be printed by throwing them into the best_params_ variable.\n"
   ]
  },
  {
   "cell_type": "code",
   "execution_count": 113,
   "id": "561e5f36",
   "metadata": {},
   "outputs": [
    {
     "data": {
      "text/plain": [
       "{'memory': None,\n",
       " 'steps': [('Classifier',\n",
       "   RandomForestClassifier(max_features=3, n_estimators=300, random_state=63))],\n",
       " 'verbose': False,\n",
       " 'Classifier': RandomForestClassifier(max_features=3, n_estimators=300, random_state=63),\n",
       " 'Classifier__bootstrap': True,\n",
       " 'Classifier__ccp_alpha': 0.0,\n",
       " 'Classifier__class_weight': None,\n",
       " 'Classifier__criterion': 'gini',\n",
       " 'Classifier__max_depth': None,\n",
       " 'Classifier__max_features': 3,\n",
       " 'Classifier__max_leaf_nodes': None,\n",
       " 'Classifier__max_samples': None,\n",
       " 'Classifier__min_impurity_decrease': 0.0,\n",
       " 'Classifier__min_impurity_split': None,\n",
       " 'Classifier__min_samples_leaf': 1,\n",
       " 'Classifier__min_samples_split': 2,\n",
       " 'Classifier__min_weight_fraction_leaf': 0.0,\n",
       " 'Classifier__n_estimators': 300,\n",
       " 'Classifier__n_jobs': None,\n",
       " 'Classifier__oob_score': False,\n",
       " 'Classifier__random_state': 63,\n",
       " 'Classifier__verbose': 0,\n",
       " 'Classifier__warm_start': False}"
      ]
     },
     "execution_count": 113,
     "metadata": {},
     "output_type": "execute_result"
    }
   ],
   "source": [
    "pipe = Pipeline([('Classifier', RandomForestClassifier())])\n",
    "\n",
    "\n",
    "search_space = [{'Classifier': [RandomForestClassifier(random_state=63)],\n",
    "                 'Classifier__n_estimators': [100, 200,300,400,500,600],\n",
    "                 'Classifier__max_features': [3,4,5,6,7]}]\n",
    "\n",
    "\n",
    "clf = GridSearchCV(pipe, search_space, cv=5, verbose=0)\n",
    "\n",
    "best_model = clf.fit(X_train, y_train)\n",
    "\n",
    "best_model.best_estimator_.get_params()"
   ]
  },
  {
   "cell_type": "code",
   "execution_count": 114,
   "id": "61026433",
   "metadata": {
    "scrolled": true
   },
   "outputs": [
    {
     "data": {
      "text/plain": [
       "{'Classifier': RandomForestClassifier(max_features=3, n_estimators=300, random_state=63),\n",
       " 'Classifier__max_features': 3,\n",
       " 'Classifier__n_estimators': 300}"
      ]
     },
     "execution_count": 114,
     "metadata": {},
     "output_type": "execute_result"
    }
   ],
   "source": [
    "best_model.best_params_"
   ]
  },
  {
   "cell_type": "markdown",
   "id": "86995f81",
   "metadata": {},
   "source": [
    "### The model was trained with the best parameters and the relevant metrics were created by making predictions."
   ]
  },
  {
   "cell_type": "code",
   "execution_count": 115,
   "id": "258f3668",
   "metadata": {},
   "outputs": [
    {
     "name": "stdout",
     "output_type": "stream",
     "text": [
      "Accuracy: 0.834375\n"
     ]
    }
   ],
   "source": [
    "clf=RandomForestClassifier(random_state=63,n_estimators=300,max_features=3)\n",
    "clf.fit(X_train,y_train)\n",
    "y_pred=clf.predict(X_test)\n",
    "print('Accuracy:', accuracy_score(y_test, y_pred))\n",
    "dic_rnd={}\n",
    "dic_rnd['name']='Random Forest'\n",
    "dic_rnd['Accuracy']=accuracy_score(y_test, y_pred)\n",
    "list_m.append(dic_rnd)"
   ]
  },
  {
   "cell_type": "markdown",
   "id": "964b0709",
   "metadata": {},
   "source": [
    "## Support Vector"
   ]
  },
  {
   "cell_type": "markdown",
   "id": "1870d917",
   "metadata": {},
   "source": [
    "### After dividing the data set as a train test split, the standard scaler was called to standardize the data in the preprocessing library, and after creating an instance called scaler, it was trained with train. Afterwards, the test and train sets were standardized separately so that the information in the test set would not leak into the train set. In addition, the stratify feature was synchronized with y so that the number of samples in the train and test were at the same rate."
   ]
  },
  {
   "cell_type": "code",
   "execution_count": 116,
   "id": "d9c9e50b",
   "metadata": {},
   "outputs": [],
   "source": [
    "X_train, X_test, y_train, y_test = train_test_split(X, y, test_size=0.20, random_state=63,stratify=y)\n",
    "scaler = preprocessing.StandardScaler()\n",
    "scaler.fit(X_train)\n",
    "X_trainStandard = scaler.transform(X_train)\n",
    "X_testStandard = scaler.transform(X_test)"
   ]
  },
  {
   "cell_type": "markdown",
   "id": "21366338",
   "metadata": {},
   "source": [
    "### A pipe instance was created from the Pipeline library. In this way, the data will be standardized first and then processed in the Support Vector Classifier. Afterwards, Hyper Parameter Tuning is performed and the parameters to be tested are sent to a variable called tuned_parameters. The parameters with the best accuracy score were found."
   ]
  },
  {
   "cell_type": "code",
   "execution_count": 117,
   "id": "8776a6ba",
   "metadata": {},
   "outputs": [
    {
     "name": "stdout",
     "output_type": "stream",
     "text": [
      "Fitting 5 folds for each of 24 candidates, totalling 120 fits\n",
      "[CV] END Classifier__C=1, Classifier__gamma=1, Classifier__kernel=rbf; total time=   0.0s\n",
      "[CV] END Classifier__C=1, Classifier__gamma=1, Classifier__kernel=rbf; total time=   0.0s\n",
      "[CV] END Classifier__C=1, Classifier__gamma=1, Classifier__kernel=rbf; total time=   0.1s\n",
      "[CV] END Classifier__C=1, Classifier__gamma=1, Classifier__kernel=rbf; total time=   0.0s\n",
      "[CV] END Classifier__C=1, Classifier__gamma=1, Classifier__kernel=rbf; total time=   0.0s\n",
      "[CV] END Classifier__C=1, Classifier__gamma=0.1, Classifier__kernel=rbf; total time=   0.0s\n",
      "[CV] END Classifier__C=1, Classifier__gamma=0.1, Classifier__kernel=rbf; total time=   0.0s\n",
      "[CV] END Classifier__C=1, Classifier__gamma=0.1, Classifier__kernel=rbf; total time=   0.0s\n",
      "[CV] END Classifier__C=1, Classifier__gamma=0.1, Classifier__kernel=rbf; total time=   0.0s\n",
      "[CV] END Classifier__C=1, Classifier__gamma=0.1, Classifier__kernel=rbf; total time=   0.0s\n",
      "[CV] END Classifier__C=1, Classifier__gamma=0.01, Classifier__kernel=rbf; total time=   0.0s\n",
      "[CV] END Classifier__C=1, Classifier__gamma=0.01, Classifier__kernel=rbf; total time=   0.0s\n",
      "[CV] END Classifier__C=1, Classifier__gamma=0.01, Classifier__kernel=rbf; total time=   0.0s\n",
      "[CV] END Classifier__C=1, Classifier__gamma=0.01, Classifier__kernel=rbf; total time=   0.0s\n",
      "[CV] END Classifier__C=1, Classifier__gamma=0.01, Classifier__kernel=rbf; total time=   0.0s\n",
      "[CV] END Classifier__C=1, Classifier__gamma=0.001, Classifier__kernel=rbf; total time=   0.0s\n",
      "[CV] END Classifier__C=1, Classifier__gamma=0.001, Classifier__kernel=rbf; total time=   0.0s\n",
      "[CV] END Classifier__C=1, Classifier__gamma=0.001, Classifier__kernel=rbf; total time=   0.0s\n",
      "[CV] END Classifier__C=1, Classifier__gamma=0.001, Classifier__kernel=rbf; total time=   0.0s\n",
      "[CV] END Classifier__C=1, Classifier__gamma=0.001, Classifier__kernel=rbf; total time=   0.0s\n",
      "[CV] END Classifier__C=10, Classifier__gamma=1, Classifier__kernel=rbf; total time=   0.0s\n",
      "[CV] END Classifier__C=10, Classifier__gamma=1, Classifier__kernel=rbf; total time=   0.0s\n",
      "[CV] END Classifier__C=10, Classifier__gamma=1, Classifier__kernel=rbf; total time=   0.0s\n",
      "[CV] END Classifier__C=10, Classifier__gamma=1, Classifier__kernel=rbf; total time=   0.0s\n",
      "[CV] END Classifier__C=10, Classifier__gamma=1, Classifier__kernel=rbf; total time=   0.0s\n",
      "[CV] END Classifier__C=10, Classifier__gamma=0.1, Classifier__kernel=rbf; total time=   0.0s\n",
      "[CV] END Classifier__C=10, Classifier__gamma=0.1, Classifier__kernel=rbf; total time=   0.0s\n",
      "[CV] END Classifier__C=10, Classifier__gamma=0.1, Classifier__kernel=rbf; total time=   0.0s\n",
      "[CV] END Classifier__C=10, Classifier__gamma=0.1, Classifier__kernel=rbf; total time=   0.0s\n",
      "[CV] END Classifier__C=10, Classifier__gamma=0.1, Classifier__kernel=rbf; total time=   0.0s\n",
      "[CV] END Classifier__C=10, Classifier__gamma=0.01, Classifier__kernel=rbf; total time=   0.0s\n",
      "[CV] END Classifier__C=10, Classifier__gamma=0.01, Classifier__kernel=rbf; total time=   0.0s\n",
      "[CV] END Classifier__C=10, Classifier__gamma=0.01, Classifier__kernel=rbf; total time=   0.0s\n",
      "[CV] END Classifier__C=10, Classifier__gamma=0.01, Classifier__kernel=rbf; total time=   0.0s\n",
      "[CV] END Classifier__C=10, Classifier__gamma=0.01, Classifier__kernel=rbf; total time=   0.0s\n",
      "[CV] END Classifier__C=10, Classifier__gamma=0.001, Classifier__kernel=rbf; total time=   0.0s\n",
      "[CV] END Classifier__C=10, Classifier__gamma=0.001, Classifier__kernel=rbf; total time=   0.0s\n",
      "[CV] END Classifier__C=10, Classifier__gamma=0.001, Classifier__kernel=rbf; total time=   0.0s\n",
      "[CV] END Classifier__C=10, Classifier__gamma=0.001, Classifier__kernel=rbf; total time=   0.0s\n",
      "[CV] END Classifier__C=10, Classifier__gamma=0.001, Classifier__kernel=rbf; total time=   0.0s\n",
      "[CV] END Classifier__C=100, Classifier__gamma=1, Classifier__kernel=rbf; total time=   0.1s\n",
      "[CV] END Classifier__C=100, Classifier__gamma=1, Classifier__kernel=rbf; total time=   0.1s\n",
      "[CV] END Classifier__C=100, Classifier__gamma=1, Classifier__kernel=rbf; total time=   0.0s\n",
      "[CV] END Classifier__C=100, Classifier__gamma=1, Classifier__kernel=rbf; total time=   0.0s\n",
      "[CV] END Classifier__C=100, Classifier__gamma=1, Classifier__kernel=rbf; total time=   0.0s\n",
      "[CV] END Classifier__C=100, Classifier__gamma=0.1, Classifier__kernel=rbf; total time=   0.0s\n",
      "[CV] END Classifier__C=100, Classifier__gamma=0.1, Classifier__kernel=rbf; total time=   0.0s\n",
      "[CV] END Classifier__C=100, Classifier__gamma=0.1, Classifier__kernel=rbf; total time=   0.0s\n",
      "[CV] END Classifier__C=100, Classifier__gamma=0.1, Classifier__kernel=rbf; total time=   0.0s\n",
      "[CV] END Classifier__C=100, Classifier__gamma=0.1, Classifier__kernel=rbf; total time=   0.0s\n",
      "[CV] END Classifier__C=100, Classifier__gamma=0.01, Classifier__kernel=rbf; total time=   0.0s\n",
      "[CV] END Classifier__C=100, Classifier__gamma=0.01, Classifier__kernel=rbf; total time=   0.0s\n",
      "[CV] END Classifier__C=100, Classifier__gamma=0.01, Classifier__kernel=rbf; total time=   0.0s\n",
      "[CV] END Classifier__C=100, Classifier__gamma=0.01, Classifier__kernel=rbf; total time=   0.0s\n",
      "[CV] END Classifier__C=100, Classifier__gamma=0.01, Classifier__kernel=rbf; total time=   0.0s\n",
      "[CV] END Classifier__C=100, Classifier__gamma=0.001, Classifier__kernel=rbf; total time=   0.0s\n",
      "[CV] END Classifier__C=100, Classifier__gamma=0.001, Classifier__kernel=rbf; total time=   0.0s\n",
      "[CV] END Classifier__C=100, Classifier__gamma=0.001, Classifier__kernel=rbf; total time=   0.0s\n",
      "[CV] END Classifier__C=100, Classifier__gamma=0.001, Classifier__kernel=rbf; total time=   0.0s\n",
      "[CV] END Classifier__C=100, Classifier__gamma=0.001, Classifier__kernel=rbf; total time=   0.0s\n",
      "[CV] END Classifier__C=1000, Classifier__gamma=1, Classifier__kernel=rbf; total time=   0.0s\n",
      "[CV] END Classifier__C=1000, Classifier__gamma=1, Classifier__kernel=rbf; total time=   0.0s\n",
      "[CV] END Classifier__C=1000, Classifier__gamma=1, Classifier__kernel=rbf; total time=   0.0s\n",
      "[CV] END Classifier__C=1000, Classifier__gamma=1, Classifier__kernel=rbf; total time=   0.0s\n",
      "[CV] END Classifier__C=1000, Classifier__gamma=1, Classifier__kernel=rbf; total time=   0.0s\n",
      "[CV] END Classifier__C=1000, Classifier__gamma=0.1, Classifier__kernel=rbf; total time=   0.2s\n",
      "[CV] END Classifier__C=1000, Classifier__gamma=0.1, Classifier__kernel=rbf; total time=   0.2s\n",
      "[CV] END Classifier__C=1000, Classifier__gamma=0.1, Classifier__kernel=rbf; total time=   0.1s\n",
      "[CV] END Classifier__C=1000, Classifier__gamma=0.1, Classifier__kernel=rbf; total time=   0.1s\n",
      "[CV] END Classifier__C=1000, Classifier__gamma=0.1, Classifier__kernel=rbf; total time=   0.1s\n",
      "[CV] END Classifier__C=1000, Classifier__gamma=0.01, Classifier__kernel=rbf; total time=   0.1s\n",
      "[CV] END Classifier__C=1000, Classifier__gamma=0.01, Classifier__kernel=rbf; total time=   0.1s\n",
      "[CV] END Classifier__C=1000, Classifier__gamma=0.01, Classifier__kernel=rbf; total time=   0.2s\n",
      "[CV] END Classifier__C=1000, Classifier__gamma=0.01, Classifier__kernel=rbf; total time=   0.1s\n",
      "[CV] END Classifier__C=1000, Classifier__gamma=0.01, Classifier__kernel=rbf; total time=   0.1s\n",
      "[CV] END Classifier__C=1000, Classifier__gamma=0.001, Classifier__kernel=rbf; total time=   0.0s\n",
      "[CV] END Classifier__C=1000, Classifier__gamma=0.001, Classifier__kernel=rbf; total time=   0.0s\n",
      "[CV] END Classifier__C=1000, Classifier__gamma=0.001, Classifier__kernel=rbf; total time=   0.0s\n",
      "[CV] END Classifier__C=1000, Classifier__gamma=0.001, Classifier__kernel=rbf; total time=   0.0s\n",
      "[CV] END Classifier__C=1000, Classifier__gamma=0.001, Classifier__kernel=rbf; total time=   0.0s\n",
      "[CV] END .........Classifier__C=1, Classifier__kernel=linear; total time=   0.0s\n",
      "[CV] END .........Classifier__C=1, Classifier__kernel=linear; total time=   0.0s\n",
      "[CV] END .........Classifier__C=1, Classifier__kernel=linear; total time=   0.0s\n",
      "[CV] END .........Classifier__C=1, Classifier__kernel=linear; total time=   0.0s\n",
      "[CV] END .........Classifier__C=1, Classifier__kernel=linear; total time=   0.0s\n",
      "[CV] END ........Classifier__C=10, Classifier__kernel=linear; total time=   0.0s\n",
      "[CV] END ........Classifier__C=10, Classifier__kernel=linear; total time=   0.0s\n",
      "[CV] END ........Classifier__C=10, Classifier__kernel=linear; total time=   0.1s\n",
      "[CV] END ........Classifier__C=10, Classifier__kernel=linear; total time=   0.0s\n"
     ]
    },
    {
     "name": "stdout",
     "output_type": "stream",
     "text": [
      "[CV] END ........Classifier__C=10, Classifier__kernel=linear; total time=   0.0s\n",
      "[CV] END .......Classifier__C=100, Classifier__kernel=linear; total time=   0.7s\n",
      "[CV] END .......Classifier__C=100, Classifier__kernel=linear; total time=   1.3s\n",
      "[CV] END .......Classifier__C=100, Classifier__kernel=linear; total time=   1.0s\n",
      "[CV] END .......Classifier__C=100, Classifier__kernel=linear; total time=   0.7s\n",
      "[CV] END .......Classifier__C=100, Classifier__kernel=linear; total time=   1.0s\n",
      "[CV] END ......Classifier__C=1000, Classifier__kernel=linear; total time=   8.9s\n",
      "[CV] END ......Classifier__C=1000, Classifier__kernel=linear; total time=   7.9s\n",
      "[CV] END ......Classifier__C=1000, Classifier__kernel=linear; total time=   7.5s\n",
      "[CV] END ......Classifier__C=1000, Classifier__kernel=linear; total time=   8.6s\n",
      "[CV] END ......Classifier__C=1000, Classifier__kernel=linear; total time=  11.0s\n",
      "[CV] END ...........Classifier__C=1, Classifier__kernel=poly; total time=   0.0s\n",
      "[CV] END ...........Classifier__C=1, Classifier__kernel=poly; total time=   0.0s\n",
      "[CV] END ...........Classifier__C=1, Classifier__kernel=poly; total time=   0.0s\n",
      "[CV] END ...........Classifier__C=1, Classifier__kernel=poly; total time=   0.0s\n",
      "[CV] END ...........Classifier__C=1, Classifier__kernel=poly; total time=   0.0s\n",
      "[CV] END ..........Classifier__C=10, Classifier__kernel=poly; total time=   0.0s\n",
      "[CV] END ..........Classifier__C=10, Classifier__kernel=poly; total time=   0.0s\n",
      "[CV] END ..........Classifier__C=10, Classifier__kernel=poly; total time=   0.0s\n",
      "[CV] END ..........Classifier__C=10, Classifier__kernel=poly; total time=   0.0s\n",
      "[CV] END ..........Classifier__C=10, Classifier__kernel=poly; total time=   0.0s\n",
      "[CV] END .........Classifier__C=100, Classifier__kernel=poly; total time=   0.1s\n",
      "[CV] END .........Classifier__C=100, Classifier__kernel=poly; total time=   0.2s\n",
      "[CV] END .........Classifier__C=100, Classifier__kernel=poly; total time=   0.2s\n",
      "[CV] END .........Classifier__C=100, Classifier__kernel=poly; total time=   0.2s\n",
      "[CV] END .........Classifier__C=100, Classifier__kernel=poly; total time=   0.1s\n",
      "[CV] END ........Classifier__C=1000, Classifier__kernel=poly; total time=   3.3s\n",
      "[CV] END ........Classifier__C=1000, Classifier__kernel=poly; total time=   3.5s\n",
      "[CV] END ........Classifier__C=1000, Classifier__kernel=poly; total time=   2.3s\n",
      "[CV] END ........Classifier__C=1000, Classifier__kernel=poly; total time=   2.0s\n",
      "[CV] END ........Classifier__C=1000, Classifier__kernel=poly; total time=   2.6s\n"
     ]
    },
    {
     "data": {
      "text/plain": [
       "GridSearchCV(estimator=Pipeline(steps=[('scaler', StandardScaler()),\n",
       "                                       ('Classifier', SVC())]),\n",
       "             param_grid=[{'Classifier__C': [1, 10, 100, 1000],\n",
       "                          'Classifier__gamma': [1, 0.1, 0.01, 0.001],\n",
       "                          'Classifier__kernel': ['rbf']},\n",
       "                         {'Classifier__C': [1, 10, 100, 1000],\n",
       "                          'Classifier__kernel': ['linear']},\n",
       "                         {'Classifier__C': [1, 10, 100, 1000],\n",
       "                          'Classifier__kernel': ['poly']}],\n",
       "             scoring='accuracy', verbose=2)"
      ]
     },
     "execution_count": 117,
     "metadata": {},
     "output_type": "execute_result"
    }
   ],
   "source": [
    "pipe=Pipeline([('scaler',preprocessing.StandardScaler()),('Classifier',SVC())])\n",
    "tuned_parameters = [{'Classifier__kernel': ['rbf'], \n",
    "                     'Classifier__gamma': [1,0.1,0.01,0.001],\n",
    "                     'Classifier__C': [1, 10, 100, 1000]},\n",
    "                    {'Classifier__kernel': ['linear'], 'Classifier__C': [1, 10, 100, 1000]},\n",
    "                   {'Classifier__kernel':['poly'], 'Classifier__C':[1, 10, 100, 1000]}]\n",
    "grid = GridSearchCV(pipe,tuned_parameters,refit=True,verbose=2,scoring='accuracy')\n",
    "\n",
    "grid.fit(X_train,y_train)"
   ]
  },
  {
   "cell_type": "code",
   "execution_count": 118,
   "id": "6dd128f8",
   "metadata": {},
   "outputs": [
    {
     "name": "stdout",
     "output_type": "stream",
     "text": [
      "{'Classifier__C': 1, 'Classifier__gamma': 0.1, 'Classifier__kernel': 'rbf'}\n"
     ]
    }
   ],
   "source": [
    "print(grid.best_params_)"
   ]
  },
  {
   "cell_type": "markdown",
   "id": "abeb6720",
   "metadata": {},
   "source": [
    "### The model was trained with the best parameters and the relevant metrics were created by making predictions."
   ]
  },
  {
   "cell_type": "code",
   "execution_count": 119,
   "id": "136d53d5",
   "metadata": {},
   "outputs": [],
   "source": [
    "model = SVC(C=1,gamma=0.1,kernel='rbf')\n",
    "model.fit(X_trainStandard,y_train)\n",
    "predictions = model.predict(X_testStandard)\n",
    "model.score(X_testStandard,y_test)\n",
    "dic_svc={}\n",
    "dic_svc['name']='SVC'\n",
    "dic_svc['Accuracy']=accuracy_score(y_test, y_pred)\n",
    "list_m.append(dic_svc)"
   ]
  },
  {
   "cell_type": "code",
   "execution_count": 120,
   "id": "673df951",
   "metadata": {},
   "outputs": [
    {
     "data": {
      "text/plain": [
       "[{'name': 'Logistic', 'Accuracy': 0.759375},\n",
       " {'name': 'KNN', 'Accuracy': 0.675},\n",
       " {'name': 'Random Forest', 'Accuracy': 0.834375},\n",
       " {'name': 'SVC', 'Accuracy': 0.478125}]"
      ]
     },
     "execution_count": 120,
     "metadata": {},
     "output_type": "execute_result"
    }
   ],
   "source": [
    "list_m"
   ]
  },
  {
   "cell_type": "markdown",
   "id": "a8029560",
   "metadata": {},
   "source": [
    "### All results are written to a list and then a DataFrame to be analyzed.\n",
    "## Comparison of Results"
   ]
  },
  {
   "cell_type": "code",
   "execution_count": 121,
   "id": "db8fb025",
   "metadata": {},
   "outputs": [
    {
     "data": {
      "text/html": [
       "<div>\n",
       "<style scoped>\n",
       "    .dataframe tbody tr th:only-of-type {\n",
       "        vertical-align: middle;\n",
       "    }\n",
       "\n",
       "    .dataframe tbody tr th {\n",
       "        vertical-align: top;\n",
       "    }\n",
       "\n",
       "    .dataframe thead th {\n",
       "        text-align: right;\n",
       "    }\n",
       "</style>\n",
       "<table border=\"1\" class=\"dataframe\">\n",
       "  <thead>\n",
       "    <tr style=\"text-align: right;\">\n",
       "      <th></th>\n",
       "      <th>name</th>\n",
       "      <th>Accuracy</th>\n",
       "    </tr>\n",
       "  </thead>\n",
       "  <tbody>\n",
       "    <tr>\n",
       "      <th>0</th>\n",
       "      <td>Logistic</td>\n",
       "      <td>0.759375</td>\n",
       "    </tr>\n",
       "    <tr>\n",
       "      <th>1</th>\n",
       "      <td>KNN</td>\n",
       "      <td>0.675000</td>\n",
       "    </tr>\n",
       "    <tr>\n",
       "      <th>2</th>\n",
       "      <td>Random Forest</td>\n",
       "      <td>0.834375</td>\n",
       "    </tr>\n",
       "    <tr>\n",
       "      <th>3</th>\n",
       "      <td>SVC</td>\n",
       "      <td>0.478125</td>\n",
       "    </tr>\n",
       "  </tbody>\n",
       "</table>\n",
       "</div>"
      ],
      "text/plain": [
       "            name  Accuracy\n",
       "0       Logistic  0.759375\n",
       "1            KNN  0.675000\n",
       "2  Random Forest  0.834375\n",
       "3            SVC  0.478125"
      ]
     },
     "execution_count": 121,
     "metadata": {},
     "output_type": "execute_result"
    }
   ],
   "source": [
    "results=pd.DataFrame(list_m)\n",
    "results"
   ]
  },
  {
   "cell_type": "markdown",
   "id": "2001c807",
   "metadata": {},
   "source": [
    "## As you can see, when we make our data set suitable for the classification problem, we get the highest accuracy score with the Random Forest Classifier."
   ]
  },
  {
   "cell_type": "code",
   "execution_count": null,
   "id": "8058d9b6",
   "metadata": {},
   "outputs": [],
   "source": []
  },
  {
   "cell_type": "code",
   "execution_count": 122,
   "id": "a702c5a0",
   "metadata": {},
   "outputs": [],
   "source": [
    "X_train, X_test , y_train, y_test = train_test_split(X, y, test_size=0.2, random_state=63)"
   ]
  },
  {
   "cell_type": "code",
   "execution_count": 123,
   "id": "2b37b12e",
   "metadata": {},
   "outputs": [
    {
     "name": "stdout",
     "output_type": "stream",
     "text": [
      "Accuracy: 0.834375\n"
     ]
    }
   ],
   "source": [
    "clf=RandomForestClassifier(random_state=63,n_estimators=300,max_features=3)\n",
    "clf.fit(X_train,y_train)\n",
    "y_pred=clf.predict(X_test)\n",
    "print('Accuracy:', accuracy_score(y_test, y_pred))"
   ]
  },
  {
   "cell_type": "code",
   "execution_count": 124,
   "id": "f51eb59e",
   "metadata": {},
   "outputs": [
    {
     "data": {
      "text/plain": [
       "array([0.07109038, 0.10647257, 0.06432387, 0.05634524, 0.07473026,\n",
       "       0.05934482, 0.10160661, 0.08936343, 0.06757888, 0.12349143,\n",
       "       0.18565252])"
      ]
     },
     "execution_count": 124,
     "metadata": {},
     "output_type": "execute_result"
    }
   ],
   "source": [
    "clf.feature_importances_"
   ]
  },
  {
   "cell_type": "code",
   "execution_count": 125,
   "id": "687098e5",
   "metadata": {},
   "outputs": [
    {
     "data": {
      "text/plain": [
       "{'fixed acidity': 0.071090378113011,\n",
       " 'volatile acidity': 0.10647256874114415,\n",
       " 'citric acid': 0.0643238700364353,\n",
       " 'residual sugar': 0.05634524419809959,\n",
       " 'chlorides': 0.07473025616397695,\n",
       " 'free sulfur dioxide': 0.05934481613912124,\n",
       " 'total sulfur dioxide': 0.10160660908179396,\n",
       " 'density': 0.08936342654729049,\n",
       " 'pH': 0.06757888259507831,\n",
       " 'sulphates': 0.12349143019021112,\n",
       " 'alcohol': 0.1856525181938378}"
      ]
     },
     "execution_count": 125,
     "metadata": {},
     "output_type": "execute_result"
    }
   ],
   "source": [
    "feature_dict = dict(zip(X.columns, list(clf.feature_importances_)))\n",
    "feature_dict"
   ]
  },
  {
   "cell_type": "markdown",
   "id": "19d0f31e",
   "metadata": {},
   "source": [
    "### As can be seen, according to the results obtained when we make the classification, the 3 most important physicochemical features that determine the quality are alcohol, sulphates and volatile acidity, respectively."
   ]
  },
  {
   "cell_type": "code",
   "execution_count": 126,
   "id": "25dd0fea",
   "metadata": {},
   "outputs": [
    {
     "data": {
      "text/plain": [
       "<sklearn.metrics._plot.roc_curve.RocCurveDisplay at 0x1cbc618c820>"
      ]
     },
     "execution_count": 126,
     "metadata": {},
     "output_type": "execute_result"
    },
    {
     "data": {
      "image/png": "[encoded data removed]",
      "text/plain": [
       "<Figure size 432x288 with 1 Axes>"
      ]
     },
     "metadata": {
      "needs_background": "light"
     },
     "output_type": "display_data"
    }
   ],
   "source": [
    "plot_roc_curve(clf, X_test, y_test)"
   ]
  },
  {
   "cell_type": "code",
   "execution_count": 127,
   "id": "c2aa1726",
   "metadata": {},
   "outputs": [
    {
     "name": "stdout",
     "output_type": "stream",
     "text": [
      "[[117  30]\n",
      " [ 23 150]]\n"
     ]
    }
   ],
   "source": [
    "print(confusion_matrix(y_test, y_pred))"
   ]
  },
  {
   "cell_type": "code",
   "execution_count": 128,
   "id": "81a1d69a",
   "metadata": {},
   "outputs": [
    {
     "name": "stdout",
     "output_type": "stream",
     "text": [
      "              precision    recall  f1-score   support\n",
      "\n",
      "           0       0.84      0.80      0.82       147\n",
      "           1       0.83      0.87      0.85       173\n",
      "\n",
      "    accuracy                           0.83       320\n",
      "   macro avg       0.83      0.83      0.83       320\n",
      "weighted avg       0.83      0.83      0.83       320\n",
      "\n"
     ]
    }
   ],
   "source": [
    "print(classification_report(y_test, y_pred))"
   ]
  },
  {
   "cell_type": "markdown",
   "id": "95a7fb74",
   "metadata": {},
   "source": [
    "## As you can see, our AUC value is quite high at 91 percent. In addition, when we examine the confusion matrix, we see that we make consistent predictions. Our precision and recall values ​​support this result."
   ]
  },
  {
   "cell_type": "code",
   "execution_count": null,
   "id": "1816d7ce",
   "metadata": {},
   "outputs": [],
   "source": []
  }
 ],
 "metadata": {
  "kernelspec": {
   "display_name": "Python 3 (ipykernel)",
   "language": "python",
   "name": "python3"
  },
  "language_info": {
   "codemirror_mode": {
    "name": "ipython",
    "version": 3
   },
   "file_extension": ".py",
   "mimetype": "text/x-python",
   "name": "python",
   "nbconvert_exporter": "python",
   "pygments_lexer": "ipython3",
   "version": "3.9.7"
  }
 },
 "nbformat": 4,
 "nbformat_minor": 5
}
